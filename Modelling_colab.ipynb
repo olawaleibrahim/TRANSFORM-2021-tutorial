{
  "nbformat": 4,
  "nbformat_minor": 0,
  "metadata": {
    "kernelspec": {
      "display_name": "Python 3",
      "language": "python",
      "name": "python3"
    },
    "language_info": {
      "codemirror_mode": {
        "name": "ipython",
        "version": 3
      },
      "file_extension": ".py",
      "mimetype": "text/x-python",
      "name": "python",
      "nbconvert_exporter": "python",
      "pygments_lexer": "ipython3",
      "version": "3.8.5"
    },
    "colab": {
      "name": "Modelling.ipynb",
      "provenance": [],
      "toc_visible": true
    },
    "accelerator": "GPU"
  },
  "cells": [
    {
      "cell_type": "markdown",
      "metadata": {
        "id": "a5G-dDSuT5pf"
      },
      "source": [
        "This notebook covers the modelling techniques used for getting optimal prediction results."
      ]
    },
    {
      "cell_type": "markdown",
      "metadata": {
        "id": "-LFJZthAT5p6"
      },
      "source": [
        "## Data Cleaning and Preparation\n",
        "\n",
        "This involves the necessary steps and processing to get both the train and test datasets in an acceptable form for the machine learnning algorithm:\n",
        "\n",
        "* Creating validation data sets\n",
        "* Selecting interested logs\n",
        "* Resolving missing values\n",
        "* Encoding categorical variables\n",
        "* Data augmentation"
      ]
    },
    {
      "cell_type": "code",
      "metadata": {
        "colab": {
          "base_uri": "https://localhost:8080/"
        },
        "id": "8z-rgFDIkgTf",
        "outputId": "4a2c5363-d551-48eb-b44e-5eb9fbd21e7e"
      },
      "source": [
        "from google.colab import drive\n",
        "drive.mount('/content/drive', force_remount=True)"
      ],
      "execution_count": 1,
      "outputs": [
        {
          "output_type": "stream",
          "text": [
            "Mounted at /content/drive\n"
          ],
          "name": "stdout"
        }
      ]
    },
    {
      "cell_type": "code",
      "metadata": {
        "colab": {
          "base_uri": "https://localhost:8080/"
        },
        "id": "4ZcLOGKgkfZP",
        "outputId": "607a7abe-b84b-4902-b545-3b2c772383ef"
      },
      "source": [
        "cd /content/drive/MyDrive/TRANSFORM-2021"
      ],
      "execution_count": 2,
      "outputs": [
        {
          "output_type": "stream",
          "text": [
            "/content/drive/MyDrive/TRANSFORM-2021\n"
          ],
          "name": "stdout"
        }
      ]
    },
    {
      "cell_type": "code",
      "metadata": {
        "id": "JFr3pHKxT5p-"
      },
      "source": [
        "import numpy as np\n",
        "import random\n",
        "import pandas as pd\n",
        "import xgboost as xgb\n",
        "from sklearn.model_selection import StratifiedKFold\n",
        "from sklearn.metrics import accuracy_score, f1_score"
      ],
      "execution_count": 3,
      "outputs": []
    },
    {
      "cell_type": "code",
      "metadata": {
        "id": "dnvIiL5QT5qB"
      },
      "source": [
        "traindata = pd.read_csv('./data/train.csv', sep=';')\n",
        "testdata = pd.read_csv('./data/leaderboard_test_features.csv.txt', sep=';')"
      ],
      "execution_count": 4,
      "outputs": []
    },
    {
      "cell_type": "code",
      "metadata": {
        "id": "J5pDBKjoT5qC"
      },
      "source": [
        "A = np.load('./data/penalty_matrix.npy')   # panlty matrix used for scoring"
      ],
      "execution_count": 5,
      "outputs": []
    },
    {
      "cell_type": "code",
      "metadata": {
        "colab": {
          "base_uri": "https://localhost:8080/"
        },
        "id": "TNrnX06gT5qE",
        "outputId": "ef869413-de31-445a-f06e-b419ed4baf51"
      },
      "source": [
        "A"
      ],
      "execution_count": 6,
      "outputs": [
        {
          "output_type": "execute_result",
          "data": {
            "text/plain": [
              "array([[0.   , 2.   , 3.5  , 3.   , 3.75 , 3.5  , 3.5  , 4.   , 4.   ,\n",
              "        2.5  , 3.875, 3.25 ],\n",
              "       [2.   , 0.   , 2.375, 2.75 , 4.   , 3.75 , 3.75 , 3.875, 4.   ,\n",
              "        3.   , 3.75 , 3.   ],\n",
              "       [3.5  , 2.375, 0.   , 2.   , 3.5  , 3.5  , 3.75 , 4.   , 4.   ,\n",
              "        2.75 , 3.25 , 3.   ],\n",
              "       [3.   , 2.75 , 2.   , 0.   , 2.5  , 2.   , 2.25 , 4.   , 4.   ,\n",
              "        3.375, 3.75 , 3.25 ],\n",
              "       [3.75 , 4.   , 3.5  , 2.5  , 0.   , 2.625, 2.875, 3.75 , 3.25 ,\n",
              "        3.   , 4.   , 3.625],\n",
              "       [3.5  , 3.75 , 3.5  , 2.   , 2.625, 0.   , 1.375, 4.   , 3.75 ,\n",
              "        3.5  , 4.   , 3.625],\n",
              "       [3.5  , 3.75 , 3.75 , 2.25 , 2.875, 1.375, 0.   , 4.   , 3.75 ,\n",
              "        3.125, 4.   , 3.75 ],\n",
              "       [4.   , 3.875, 4.   , 4.   , 3.75 , 4.   , 4.   , 0.   , 2.75 ,\n",
              "        3.75 , 3.75 , 4.   ],\n",
              "       [4.   , 4.   , 4.   , 4.   , 3.25 , 3.75 , 3.75 , 2.75 , 0.   ,\n",
              "        4.   , 4.   , 3.875],\n",
              "       [2.5  , 3.   , 2.75 , 3.375, 3.   , 3.5  , 3.125, 3.75 , 4.   ,\n",
              "        0.   , 2.5  , 3.25 ],\n",
              "       [3.875, 3.75 , 3.25 , 3.75 , 4.   , 4.   , 4.   , 3.75 , 4.   ,\n",
              "        2.5  , 0.   , 4.   ],\n",
              "       [3.25 , 3.   , 3.   , 3.25 , 3.625, 3.625, 3.75 , 4.   , 3.875,\n",
              "        3.25 , 4.   , 0.   ]])"
            ]
          },
          "metadata": {
            "tags": []
          },
          "execution_count": 6
        }
      ]
    },
    {
      "cell_type": "markdown",
      "metadata": {
        "id": "KVNIhlGBk4Un"
      },
      "source": [
        "Scoring matrix for petrophysical interpretation\n",
        "\n",
        "![penalty_matrix.jpg](data:image/jpeg;base64,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)"
      ]
    },
    {
      "cell_type": "code",
      "metadata": {
        "id": "G7Us-FbkT5qJ"
      },
      "source": [
        "def score(y_true, y_pred):\n",
        "\n",
        "    '''\n",
        "    custom metric used for evaluation\n",
        "    args:\n",
        "      y_true: actual prediction\n",
        "      y_pred: predictions made\n",
        "    '''\n",
        "\n",
        "    S = 0.0\n",
        "    y_true = y_true.astype(int)\n",
        "    y_pred = y_pred.astype(int)\n",
        "    for i in range(0, y_true.shape[0]):\n",
        "        S -= A[y_true[i], y_pred[i]]\n",
        "    return S/y_true.shape[0]"
      ],
      "execution_count": 7,
      "outputs": []
    },
    {
      "cell_type": "markdown",
      "metadata": {
        "id": "-Pdw_Wg7T5qK"
      },
      "source": [
        "### Creating Validation Sets\n",
        "\n",
        "Validation sets are created to properly evaluate changes made on the machine learning model. This is important to prevent overfitting the open test data since the blind test is used as the final determiner. So it is important to build ML models that will generalise better on unseen wells. Having no idea how the blind wells would come (geospatial distribution, logs presence), there was no specific guide in selecting train wells, so wells were randomly selected from the train to create two validation sets (each comprising of 10 wells). "
      ]
    },
    {
      "cell_type": "code",
      "metadata": {
        "id": "d7CVatTIT5qM"
      },
      "source": [
        "train_wells = traindata.WELL.unique()"
      ],
      "execution_count": 8,
      "outputs": []
    },
    {
      "cell_type": "code",
      "metadata": {
        "colab": {
          "base_uri": "https://localhost:8080/"
        },
        "id": "1Pw4LifzT5qN",
        "outputId": "5ddc71fd-329b-4099-ba5f-d955dc4d1051"
      },
      "source": [
        "print(f'Initial total number of train wells: {len(train_wells)}')"
      ],
      "execution_count": 9,
      "outputs": [
        {
          "output_type": "stream",
          "text": [
            "Initial total number of train wells: 98\n"
          ],
          "name": "stdout"
        }
      ]
    },
    {
      "cell_type": "code",
      "metadata": {
        "id": "eDGOmYDfT5qP"
      },
      "source": [
        "np.random.seed(40)"
      ],
      "execution_count": 10,
      "outputs": []
    },
    {
      "cell_type": "code",
      "metadata": {
        "id": "DgGOCpSST5qP"
      },
      "source": [
        "valid1 = random.sample(list(train_wells), 10)   #randomly sample 10 well names from train data"
      ],
      "execution_count": 11,
      "outputs": []
    },
    {
      "cell_type": "markdown",
      "metadata": {
        "id": "uduNa4imT5qQ"
      },
      "source": [
        "QC to remove valid1 wells from train wells to prevent having same well(s) in the second validation data"
      ]
    },
    {
      "cell_type": "code",
      "metadata": {
        "colab": {
          "base_uri": "https://localhost:8080/"
        },
        "id": "eerYValbT5qR",
        "outputId": "fab6e9bf-045e-438a-a619-2b9d18dace14"
      },
      "source": [
        "train_wells = [well for well in train_wells if not well in valid1]\n",
        "print(f'Number of wells left: {len(train_wells)}')"
      ],
      "execution_count": 12,
      "outputs": [
        {
          "output_type": "stream",
          "text": [
            "Number of wells left: 88\n"
          ],
          "name": "stdout"
        }
      ]
    },
    {
      "cell_type": "code",
      "metadata": {
        "colab": {
          "base_uri": "https://localhost:8080/"
        },
        "id": "o8T-2TfeT5qR",
        "outputId": "1e956ed4-5713-4cbd-837b-04ce80c3d956"
      },
      "source": [
        "valid2 = random.sample(list(train_wells), 10)\n",
        "\n",
        "train_wells = [well for well in train_wells if not well in valid2]\n",
        "print(f'Number of wells left: {len(train_wells)}')"
      ],
      "execution_count": 13,
      "outputs": [
        {
          "output_type": "stream",
          "text": [
            "Number of wells left: 78\n"
          ],
          "name": "stdout"
        }
      ]
    },
    {
      "cell_type": "code",
      "metadata": {
        "colab": {
          "base_uri": "https://localhost:8080/"
        },
        "id": "LKJb_yg0T5qS",
        "outputId": "4d0e31d7-fab4-4486-ddb0-9afd3a8509f9"
      },
      "source": [
        "print(len(valid1), len(valid2))"
      ],
      "execution_count": 14,
      "outputs": [
        {
          "output_type": "stream",
          "text": [
            "10 10\n"
          ],
          "name": "stdout"
        }
      ]
    },
    {
      "cell_type": "code",
      "metadata": {
        "colab": {
          "base_uri": "https://localhost:8080/"
        },
        "id": "0JkMeQg-T5qT",
        "outputId": "9e97b604-d57a-4b1c-b67b-1e8e533de5a1"
      },
      "source": [
        "validation_wells = set(valid1 + valid2)\n",
        "print(len(validation_wells))"
      ],
      "execution_count": 15,
      "outputs": [
        {
          "output_type": "stream",
          "text": [
            "20\n"
          ],
          "name": "stdout"
        }
      ]
    },
    {
      "cell_type": "markdown",
      "metadata": {
        "id": "d8MCXj10T5qU"
      },
      "source": [
        "Let's proceed to getting the validation data from the train data set and dropping them to prevent any form of data leakage."
      ]
    },
    {
      "cell_type": "code",
      "metadata": {
        "id": "OXbHGOfJT5qV"
      },
      "source": [
        "def create_validation_set(train, wells):\n",
        "    \n",
        "    '''\n",
        "    Function to validation sets from the full train data using well names\n",
        "    '''\n",
        "    \n",
        "    validation = pd.DataFrame(columns=list(train.columns))\n",
        "    \n",
        "    for well in wells:\n",
        "        welldata = train.loc[train.WELL == well]\n",
        "        validation = pd.concat((welldata, validation))\n",
        "        \n",
        "    return validation"
      ],
      "execution_count": 16,
      "outputs": []
    },
    {
      "cell_type": "code",
      "metadata": {
        "id": "lLBR1hVOT5qV"
      },
      "source": [
        "# using function to get data for validation wells\n",
        "\n",
        "validation1 = create_validation_set(traindata, valid1)\n",
        "validation2 = create_validation_set(traindata, valid2)"
      ],
      "execution_count": 17,
      "outputs": []
    },
    {
      "cell_type": "code",
      "metadata": {
        "id": "umSmuXCZT5qW"
      },
      "source": [
        "# total validation data\n",
        "\n",
        "validation = pd.concat((validation1, validation2))"
      ],
      "execution_count": 18,
      "outputs": []
    },
    {
      "cell_type": "code",
      "metadata": {
        "colab": {
          "base_uri": "https://localhost:8080/"
        },
        "id": "CVRRJrJeT5qX",
        "outputId": "a99d090d-f60e-4195-9931-c12d9df9670f"
      },
      "source": [
        "validation.shape, validation1.shape, validation2.shape"
      ],
      "execution_count": 19,
      "outputs": [
        {
          "output_type": "execute_result",
          "data": {
            "text/plain": [
              "((232527, 29), (123486, 29), (109041, 29))"
            ]
          },
          "metadata": {
            "tags": []
          },
          "execution_count": 19
        }
      ]
    },
    {
      "cell_type": "code",
      "metadata": {
        "colab": {
          "base_uri": "https://localhost:8080/"
        },
        "id": "BwUZYgLYT5qX",
        "outputId": "45ab8661-d10a-4021-9412-ead6be419a8d"
      },
      "source": [
        "# dropping validation data from train data\n",
        "\n",
        "new_train = pd.concat([traindata, validation, validation]).drop_duplicates(keep=False)\n",
        "print(f'Previous train data shape: {traindata.shape}')\n",
        "print(f'New train data shape: {new_train.shape}')"
      ],
      "execution_count": 20,
      "outputs": [
        {
          "output_type": "stream",
          "text": [
            "Previous train data shape: (1170511, 29)\n",
            "New train data shape: (937984, 29)\n"
          ],
          "name": "stdout"
        }
      ]
    },
    {
      "cell_type": "code",
      "metadata": {
        "scrolled": true,
        "colab": {
          "base_uri": "https://localhost:8080/"
        },
        "id": "Pm4BBONgT5qY",
        "outputId": "49fc1688-46ce-459d-9142-ee759451c7cc"
      },
      "source": [
        "# QC to ensure there are no data leakage\n",
        "\n",
        "previous_rows = traindata.shape[0]\n",
        "new_train_rows = new_train.shape[0]\n",
        "validation_rows = validation.shape[0]\n",
        "\n",
        "print(f'Number of previous train data rows: {previous_rows}')\n",
        "print(f'Validation + validation rows: {validation_rows+new_train_rows}')"
      ],
      "execution_count": 21,
      "outputs": [
        {
          "output_type": "stream",
          "text": [
            "Number of previous train data rows: 1170511\n",
            "Validation + validation rows: 1170511\n"
          ],
          "name": "stdout"
        }
      ]
    },
    {
      "cell_type": "code",
      "metadata": {
        "colab": {
          "base_uri": "https://localhost:8080/"
        },
        "id": "uINnz4g4T5qZ",
        "outputId": "367b1dd8-2cdd-460a-a4cb-642528af69f8"
      },
      "source": [
        "# to confirm we still have all samples of the labels in the train data set\n",
        "\n",
        "new_train.FORCE_2020_LITHOFACIES_LITHOLOGY.value_counts()"
      ],
      "execution_count": 22,
      "outputs": [
        {
          "output_type": "execute_result",
          "data": {
            "text/plain": [
              "65000    573405\n",
              "30000    136783\n",
              "65030    120134\n",
              "70000     45086\n",
              "80000     26950\n",
              "99000     11381\n",
              "70032     10401\n",
              "88000      8213\n",
              "90000      3107\n",
              "74000      1336\n",
              "86000      1085\n",
              "93000       103\n",
              "Name: FORCE_2020_LITHOFACIES_LITHOLOGY, dtype: int64"
            ]
          },
          "metadata": {
            "tags": []
          },
          "execution_count": 22
        }
      ]
    },
    {
      "cell_type": "markdown",
      "metadata": {
        "id": "ZoZUXIzVT5qa"
      },
      "source": [
        "Now we can proceed to other preparation procedures."
      ]
    },
    {
      "cell_type": "markdown",
      "metadata": {
        "id": "EHgWCrhVT5qa"
      },
      "source": [
        "Logs were selected based on user's desire to use them for training. The confidence logs was dropped as this was absent in the test logs as the ML models need the same set of wells used for training in making predictions on the test wells. Other absent logs and logs with low percentage of values from the combined test data are also dropped. This has previously been visualized in the EDA notebook. A cut off of 30% may be selected as criteria for dropping the logs. Let's take a look at that!"
      ]
    },
    {
      "cell_type": "code",
      "metadata": {
        "colab": {
          "base_uri": "https://localhost:8080/"
        },
        "id": "CtDSUq9eT5qa",
        "outputId": "e3c7dfbe-852c-4ee3-cef1-4815f105ae70"
      },
      "source": [
        "print(f'Percentage of values in test logs:')\n",
        "100 - testdata.isna().sum()/testdata.shape[0]*100"
      ],
      "execution_count": 23,
      "outputs": [
        {
          "output_type": "stream",
          "text": [
            "Percentage of values in test logs:\n"
          ],
          "name": "stdout"
        },
        {
          "output_type": "execute_result",
          "data": {
            "text/plain": [
              "WELL         100.000000\n",
              "DEPTH_MD     100.000000\n",
              "X_LOC         99.956867\n",
              "Y_LOC         99.956867\n",
              "Z_LOC         99.956867\n",
              "GROUP        100.000000\n",
              "FORMATION     94.828418\n",
              "CALI          95.873116\n",
              "RSHA          28.582603\n",
              "RMED          99.570863\n",
              "RDEP          99.956867\n",
              "RHOB          87.601070\n",
              "GR           100.000000\n",
              "SGR            0.000000\n",
              "NPHI          76.062609\n",
              "PEF           82.978521\n",
              "DTC           99.398330\n",
              "SP            48.708932\n",
              "BS            48.955302\n",
              "ROP           49.943708\n",
              "DTS           31.596801\n",
              "DCAL           9.880397\n",
              "DRHO          81.555130\n",
              "MUDWEIGHT     14.818037\n",
              "RMIC           8.272776\n",
              "ROPA          40.786338\n",
              "RXO           21.820947\n",
              "dtype: float64"
            ]
          },
          "metadata": {
            "tags": []
          },
          "execution_count": 23
        }
      ]
    },
    {
      "cell_type": "markdown",
      "metadata": {
        "id": "_0ZpFVmTT5qc"
      },
      "source": [
        "For better and faster processing, the train, validation and test data sets will be concatenated and processed together as we need these data sets to be in the same formats to get good predictions out of the ML model. But let's have it in mind that the RSHA, SGR, DCAL, MUDWEIGHT, RMIC and RXO will be dropped from the wells. Let's proceed."
      ]
    },
    {
      "cell_type": "markdown",
      "metadata": {
        "id": "HyK1JYHIT5qc"
      },
      "source": [
        "Let's extract the data sets indices that will be used for splitting the features and targets into their respective datasets after prepration is complete. We will also be extracting the train target"
      ]
    },
    {
      "cell_type": "code",
      "metadata": {
        "id": "esE6HIbPT5qd"
      },
      "source": [
        "ntrain = new_train.shape[0]\n",
        "ntest = testdata.shape[0]\n",
        "nvalid1 = validation1.shape[0]\n",
        "nvalid2 = validation2.shape[0]\n",
        "nvalid3 = validation.shape[0]\n",
        "\n",
        "df = pd.concat((new_train, testdata, validation1, validation2, validation)).reset_index(drop=True)"
      ],
      "execution_count": 24,
      "outputs": []
    },
    {
      "cell_type": "markdown",
      "metadata": {
        "id": "nAGi_NUylx68"
      },
      "source": [
        "So the combined dataframe for preparation\n",
        "\n",
        "![Picture3.png](data:image/png;base64,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)"
      ]
    },
    {
      "cell_type": "code",
      "metadata": {
        "colab": {
          "base_uri": "https://localhost:8080/"
        },
        "id": "KuyRMiElT5qd",
        "outputId": "70086126-1dbd-4eb2-e03f-07c9b0a29527"
      },
      "source": [
        "df.shape"
      ],
      "execution_count": 25,
      "outputs": [
        {
          "output_type": "execute_result",
          "data": {
            "text/plain": [
              "(1539824, 29)"
            ]
          },
          "metadata": {
            "tags": []
          },
          "execution_count": 25
        }
      ]
    },
    {
      "cell_type": "markdown",
      "metadata": {
        "id": "mFdwSEZkT5qe"
      },
      "source": [
        "The procedure below is used to extract data needed for the augmentation procedure to be performed after every other preparation has been done"
      ]
    },
    {
      "cell_type": "code",
      "metadata": {
        "id": "pK2CkprhT5qf"
      },
      "source": [
        "#making a copy of the dataframes\n",
        "\n",
        "train = new_train.copy()\n",
        "test = testdata.copy()\n",
        "valid1 = validation1.copy()\n",
        "valid2 = validation2.copy()\n",
        "valid = validation.copy()"
      ],
      "execution_count": 26,
      "outputs": []
    },
    {
      "cell_type": "code",
      "metadata": {
        "id": "KdFZodAxT5qf"
      },
      "source": [
        "# extracting the data sets well names and depth values needed for augmentation\n",
        "\n",
        "train_well = train.WELL.values\n",
        "train_depth = train.DEPTH_MD.values\n",
        "\n",
        "test_well = test.WELL.values\n",
        "test_depth = test.DEPTH_MD.values\n",
        " \n",
        "valid1_well = valid1.WELL.values\n",
        "valid1_depth = valid1.DEPTH_MD.values\n",
        " \n",
        "valid2_well = valid2.WELL.values\n",
        "valid2_depth = valid2.DEPTH_MD.values\n",
        " \n",
        "valid_well = valid.WELL.values\n",
        "valid_depth = valid.DEPTH_MD.values"
      ],
      "execution_count": 27,
      "outputs": []
    },
    {
      "cell_type": "markdown",
      "metadata": {
        "id": "ecloHdGoT5qf"
      },
      "source": [
        "Now let's extract the data sets labels and prepare them for training and validation performance check."
      ]
    },
    {
      "cell_type": "code",
      "metadata": {
        "id": "e0b9ogvST5qg"
      },
      "source": [
        "lithology = train['FORCE_2020_LITHOFACIES_LITHOLOGY']\n",
        "valid1_lithology = valid1['FORCE_2020_LITHOFACIES_LITHOLOGY']\n",
        "valid2_lithology = valid2['FORCE_2020_LITHOFACIES_LITHOLOGY']\n",
        "valid_lithology = valid['FORCE_2020_LITHOFACIES_LITHOLOGY']\n",
        " \n",
        "lithology_numbers = {30000: 0,\n",
        "                 65030: 1,\n",
        "                 65000: 2,\n",
        "                 80000: 3,\n",
        "                 74000: 4,\n",
        "                 70000: 5,\n",
        "                 70032: 6,\n",
        "                 88000: 7,\n",
        "                 86000: 8,\n",
        "                 99000: 9,\n",
        "                 90000: 10,\n",
        "                 93000: 11}\n",
        " \n",
        "lithology = lithology.map(lithology_numbers)\n",
        "valid1_lithology = valid1_lithology.map(lithology_numbers)\n",
        "valid2_lithology = valid2_lithology.map(lithology_numbers)\n",
        "valid_lithology = valid_lithology.map(lithology_numbers)"
      ],
      "execution_count": 28,
      "outputs": []
    },
    {
      "cell_type": "code",
      "metadata": {
        "colab": {
          "base_uri": "https://localhost:8080/"
        },
        "id": "AwNnit4fT5qg",
        "outputId": "1e6df7d7-c3f9-452a-a4f4-063f0f46bb24"
      },
      "source": [
        "print(f'dataframe shapes before dropping columns: {df.shape}')\n",
        "\n",
        "def drop_columns(data, *args):\n",
        "\n",
        "    '''\n",
        "    function used to drop columns.\n",
        "    args:: \n",
        "      data:  dataframe to be operated on\n",
        "      *args: a list of columns to be dropped from the dataframe\n",
        "\n",
        "    return: returns a dataframe with the columns dropped\n",
        "    '''\n",
        "    \n",
        "    columns = []\n",
        "    for _ in args:\n",
        "        columns.append(_)\n",
        "        \n",
        "    data = data.drop(columns, axis=1)\n",
        "        \n",
        "    return data\n",
        "\n",
        "columns_dropped = ['RSHA', 'SGR', 'DCAL', 'MUDWEIGHT', 'RMIC', 'RXO'] #columns to be dropped\n",
        "df = drop_columns(df, *columns_dropped)\n",
        "print(f'shape of dataframe after dropping columns {df.shape}')"
      ],
      "execution_count": 29,
      "outputs": [
        {
          "output_type": "stream",
          "text": [
            "dataframe shapes before dropping columns: (1539824, 29)\n",
            "shape of dataframe after dropping columns (1539824, 23)\n"
          ],
          "name": "stdout"
        }
      ]
    },
    {
      "cell_type": "markdown",
      "metadata": {
        "id": "Pg3mEQXFT5qh"
      },
      "source": [
        "### Data Encoding\n",
        "\n",
        "The categorical logs/columns in the data set need to be encoded for use by the ML algorithm. From the data visualization, we saw the high dimensionality of the logs (especially the FORMATION log with 69 distinct values), so label encoding will be applied instead of one hot encoding these features to prevent high dimensionality of the data."
      ]
    },
    {
      "cell_type": "code",
      "metadata": {
        "colab": {
          "base_uri": "https://localhost:8080/"
        },
        "id": "7lcvYTM0T5qh",
        "outputId": "976e9f7d-a14d-44d0-c7f7-86291ad2b6c9"
      },
      "source": [
        "df['GROUP_encoded'] = df['GROUP'].astype('category')\n",
        "df['GROUP_encoded'] = df['GROUP_encoded'].cat.codes \n",
        "\n",
        "df['FORMATION_encoded'] = df['FORMATION'].astype('category')\n",
        "df['FORMATION_encoded'] = df['FORMATION_encoded'].cat.codes\n",
        "\n",
        "df['WELL_encoded'] = df['WELL'].astype('category')\n",
        "df['WELL_encoded'] = df['WELL_encoded'].cat.codes\n",
        "\n",
        "print(f'shape of dataframe after label encoding columns {df.shape}')"
      ],
      "execution_count": 30,
      "outputs": [
        {
          "output_type": "stream",
          "text": [
            "shape of dataframe after label encoding columns (1539824, 26)\n"
          ],
          "name": "stdout"
        }
      ]
    },
    {
      "cell_type": "code",
      "metadata": {
        "id": "T0wbXN92T5qi"
      },
      "source": [
        "# dropping the previous columns after encoding\n",
        "\n",
        "df = df.drop(['WELL', 'GROUP', 'FORMATION'], axis=1)"
      ],
      "execution_count": 31,
      "outputs": []
    },
    {
      "cell_type": "markdown",
      "metadata": {
        "id": "pEZeVJTiT5qi"
      },
      "source": [
        "### Filling Missing Values\n",
        "\n",
        "Some fractions of missing values still exist in present logs, how do we resolve that? While we can use a mean of values in a window to solve this, backward or forward fill, we could also decide to fill up all missing values with a distinct value different from other values. This way, the ML algorithm used (in this case a gradient tree algorithm) can differentiate this better. From validation, this improved result better. -9999 is used, and since this is a classification problem as opposed to a regression where we predict actual lithology values, outlier effect is not observed in the output."
      ]
    },
    {
      "cell_type": "code",
      "metadata": {
        "id": "tZSfMfHeT5qj"
      },
      "source": [
        "df = df.fillna(-9999)"
      ],
      "execution_count": 32,
      "outputs": []
    },
    {
      "cell_type": "code",
      "metadata": {
        "colab": {
          "base_uri": "https://localhost:8080/"
        },
        "id": "fE3uTdnQT5qj",
        "outputId": "e864750d-6a0b-4dec-d333-15729cf98378"
      },
      "source": [
        "df.isna().sum()/df.shape[0]*100"
      ],
      "execution_count": 33,
      "outputs": [
        {
          "output_type": "execute_result",
          "data": {
            "text/plain": [
              "DEPTH_MD                             0.0\n",
              "X_LOC                                0.0\n",
              "Y_LOC                                0.0\n",
              "Z_LOC                                0.0\n",
              "CALI                                 0.0\n",
              "RMED                                 0.0\n",
              "RDEP                                 0.0\n",
              "RHOB                                 0.0\n",
              "GR                                   0.0\n",
              "NPHI                                 0.0\n",
              "PEF                                  0.0\n",
              "DTC                                  0.0\n",
              "SP                                   0.0\n",
              "BS                                   0.0\n",
              "ROP                                  0.0\n",
              "DTS                                  0.0\n",
              "DRHO                                 0.0\n",
              "ROPA                                 0.0\n",
              "FORCE_2020_LITHOFACIES_LITHOLOGY     0.0\n",
              "FORCE_2020_LITHOFACIES_CONFIDENCE    0.0\n",
              "GROUP_encoded                        0.0\n",
              "FORMATION_encoded                    0.0\n",
              "WELL_encoded                         0.0\n",
              "dtype: float64"
            ]
          },
          "metadata": {
            "tags": []
          },
          "execution_count": 33
        }
      ]
    },
    {
      "cell_type": "markdown",
      "metadata": {
        "id": "AHxs9Le-T5qk"
      },
      "source": [
        "Now that we've completed the majority of the preparation, let's split back our concatenated dataframe into their validation sets, train and test set"
      ]
    },
    {
      "cell_type": "code",
      "metadata": {
        "colab": {
          "base_uri": "https://localhost:8080/"
        },
        "id": "wzrCidfpT5qk",
        "outputId": "fcc8034e-c0d1-4b1a-8079-b5216d5792d4"
      },
      "source": [
        "data = df.copy()   #making a copy of the preparaed dataframe to work with\n",
        "data.shape"
      ],
      "execution_count": 34,
      "outputs": [
        {
          "output_type": "execute_result",
          "data": {
            "text/plain": [
              "(1539824, 23)"
            ]
          },
          "metadata": {
            "tags": []
          },
          "execution_count": 34
        }
      ]
    },
    {
      "cell_type": "markdown",
      "metadata": {
        "id": "0RMwEoCgmLsa"
      },
      "source": [
        "Remember the shape of the concatenated dataframe;\n",
        "\n",
        "![Picture2.png](data:image/png;base64,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)\n",
        "\n",
        "using the data sets indices will be used for slicing out their corresponding features"
      ]
    },
    {
      "cell_type": "code",
      "metadata": {
        "id": "2t6hagxYT5ql"
      },
      "source": [
        "train = data[:ntrain].copy()\n",
        "train.drop(['FORCE_2020_LITHOFACIES_LITHOLOGY'], axis=1, inplace=True)\n",
        "        \n",
        "test = data[ntrain:(ntest+ntrain)].copy()\n",
        "test.drop(['FORCE_2020_LITHOFACIES_LITHOLOGY'], axis=1, inplace=True)\n",
        "test = test.reset_index(drop=True)\n",
        "\n",
        "valid1 = data[(ntest+ntrain):(ntest+ntrain+nvalid1)].copy()\n",
        "valid1.drop(['FORCE_2020_LITHOFACIES_LITHOLOGY'], axis=1, inplace=True)\n",
        "valid1 = valid1.reset_index(drop=True)\n",
        "\n",
        "valid2 = data[(ntest+ntrain+nvalid1):(ntest+ntrain+nvalid1+nvalid2)].copy()\n",
        "valid2.drop(['FORCE_2020_LITHOFACIES_LITHOLOGY'], axis=1, inplace=True)\n",
        "valid2 = valid2.reset_index(drop=True)\n",
        "\n",
        "valid = data[(ntest+ntrain+nvalid1+nvalid2):].copy()\n",
        "valid.drop(['FORCE_2020_LITHOFACIES_LITHOLOGY'], axis=1, inplace=True)\n",
        "valid = valid.reset_index(drop=True)"
      ],
      "execution_count": 35,
      "outputs": []
    },
    {
      "cell_type": "code",
      "metadata": {
        "colab": {
          "base_uri": "https://localhost:8080/"
        },
        "id": "pkNmCdd0T5ql",
        "outputId": "af516f60-5eda-4765-827b-a5e71ebb1e9c"
      },
      "source": [
        "# checking shapes of sliced data sets for QC\n",
        "\n",
        "train.shape, test.shape, valid1.shape, valid2.shape, valid.shape"
      ],
      "execution_count": 36,
      "outputs": [
        {
          "output_type": "execute_result",
          "data": {
            "text/plain": [
              "((937984, 22), (136786, 22), (123486, 22), (109041, 22), (232527, 22))"
            ]
          },
          "metadata": {
            "tags": []
          },
          "execution_count": 36
        }
      ]
    },
    {
      "cell_type": "markdown",
      "metadata": {
        "id": "Fe7BktzOT5qm"
      },
      "source": [
        "### Data Augmentation\n",
        "\n",
        "The data augmentation technique is extracted from the ISPL team code for the 2016 SEG ML competition : https://github.com/seg/2016-ml-contest/tree/master/ispl . The technique was based on the assumption that \"facies do not abrutly change from a given depth layer to the next one\". This was implemented by aggregating features at neighbouring depths and computing the feature spatial gradient."
      ]
    },
    {
      "cell_type": "code",
      "metadata": {
        "id": "o5q-bZLwT5qm"
      },
      "source": [
        "# Feature windows concatenation function\n",
        "def augment_features_window(X, N_neig):\n",
        "    \n",
        "    # Parameters\n",
        "    N_row = X.shape[0]\n",
        "    N_feat = X.shape[1]\n",
        " \n",
        "    # Zero padding\n",
        "    X = np.vstack((np.zeros((N_neig, N_feat)), X, (np.zeros((N_neig, N_feat)))))\n",
        " \n",
        "    # Loop over windows\n",
        "    X_aug = np.zeros((N_row, N_feat*(2*N_neig+1)))\n",
        "    for r in np.arange(N_row)+N_neig:\n",
        "        this_row = []\n",
        "        for c in np.arange(-N_neig,N_neig+1):\n",
        "            this_row = np.hstack((this_row, X[r+c]))\n",
        "        X_aug[r-N_neig] = this_row\n",
        " \n",
        "    return X_aug\n",
        " \n",
        "# Feature gradient computation function\n",
        "def augment_features_gradient(X, depth):\n",
        "    \n",
        "    # Compute features gradient\n",
        "    d_diff = np.diff(depth).reshape((-1, 1))\n",
        "    d_diff[d_diff==0] = 0.001\n",
        "    X_diff = np.diff(X, axis=0)\n",
        "    X_grad = X_diff / d_diff\n",
        "        \n",
        "    # Compensate for last missing value\n",
        "    X_grad = np.concatenate((X_grad, np.zeros((1, X_grad.shape[1]))))\n",
        "    \n",
        "    return X_grad\n",
        " \n",
        "# Feature augmentation function\n",
        "def augment_features(X, well, depth, N_neig=1):\n",
        "    \n",
        "    # Augment features\n",
        "    X_aug = np.zeros((X.shape[0], X.shape[1]*(N_neig*2+2)))\n",
        "    for w in np.unique(well):\n",
        "        w_idx = np.where(well == w)[0]\n",
        "        X_aug_win = augment_features_window(X[w_idx, :], N_neig)\n",
        "        X_aug_grad = augment_features_gradient(X[w_idx, :], depth[w_idx])\n",
        "        X_aug[w_idx, :] = np.concatenate((X_aug_win, X_aug_grad), axis=1)\n",
        "    \n",
        "    return X_aug"
      ],
      "execution_count": 37,
      "outputs": []
    },
    {
      "cell_type": "code",
      "metadata": {
        "colab": {
          "base_uri": "https://localhost:8080/"
        },
        "id": "To91UkeNT5qn",
        "outputId": "97bc3d85-56a6-41b4-eba9-5a409df46e0a"
      },
      "source": [
        "print(f'Shape of datasets before augmentation {train.shape, test.shape, valid1.shape, valid2.shape, valid.shape}')\n",
        "\n",
        "aug_train = augment_features(train.values, train_well, train_depth)\n",
        "aug_test = augment_features(test.values, test_well, test_depth)\n",
        "aug_valid1 = augment_features(valid1.values, valid1_well, valid1_depth)\n",
        "aug_valid2 = augment_features(valid2.values, valid2_well, valid2_depth)\n",
        "aug_valid = augment_features(valid.values, valid_well, valid_depth)\n",
        "\n",
        "print(f'Shape of datasets after augmentation {aug_train.shape, aug_test.shape, aug_valid1.shape, aug_valid2.shape, aug_valid.shape}')"
      ],
      "execution_count": 38,
      "outputs": [
        {
          "output_type": "stream",
          "text": [
            "Shape of datasets before augmentation ((937984, 22), (136786, 22), (123486, 22), (109041, 22), (232527, 22))\n",
            "Shape of datasets after augmentation ((937984, 88), (136786, 88), (123486, 88), (109041, 88), (232527, 88))\n"
          ],
          "name": "stdout"
        }
      ]
    },
    {
      "cell_type": "code",
      "metadata": {
        "colab": {
          "base_uri": "https://localhost:8080/",
          "height": 408
        },
        "id": "Qvw6uLPiT5qn",
        "outputId": "57157350-d484-4c14-965a-11cbae35b3ad"
      },
      "source": [
        "pd.DataFrame(aug_train).head(10)"
      ],
      "execution_count": 39,
      "outputs": [
        {
          "output_type": "execute_result",
          "data": {
            "text/html": [
              "<div>\n",
              "<style scoped>\n",
              "    .dataframe tbody tr th:only-of-type {\n",
              "        vertical-align: middle;\n",
              "    }\n",
              "\n",
              "    .dataframe tbody tr th {\n",
              "        vertical-align: top;\n",
              "    }\n",
              "\n",
              "    .dataframe thead th {\n",
              "        text-align: right;\n",
              "    }\n",
              "</style>\n",
              "<table border=\"1\" class=\"dataframe\">\n",
              "  <thead>\n",
              "    <tr style=\"text-align: right;\">\n",
              "      <th></th>\n",
              "      <th>0</th>\n",
              "      <th>1</th>\n",
              "      <th>2</th>\n",
              "      <th>3</th>\n",
              "      <th>4</th>\n",
              "      <th>5</th>\n",
              "      <th>6</th>\n",
              "      <th>7</th>\n",
              "      <th>8</th>\n",
              "      <th>9</th>\n",
              "      <th>10</th>\n",
              "      <th>11</th>\n",
              "      <th>12</th>\n",
              "      <th>13</th>\n",
              "      <th>14</th>\n",
              "      <th>15</th>\n",
              "      <th>16</th>\n",
              "      <th>17</th>\n",
              "      <th>18</th>\n",
              "      <th>19</th>\n",
              "      <th>20</th>\n",
              "      <th>21</th>\n",
              "      <th>22</th>\n",
              "      <th>23</th>\n",
              "      <th>24</th>\n",
              "      <th>25</th>\n",
              "      <th>26</th>\n",
              "      <th>27</th>\n",
              "      <th>28</th>\n",
              "      <th>29</th>\n",
              "      <th>30</th>\n",
              "      <th>31</th>\n",
              "      <th>32</th>\n",
              "      <th>33</th>\n",
              "      <th>34</th>\n",
              "      <th>35</th>\n",
              "      <th>36</th>\n",
              "      <th>37</th>\n",
              "      <th>38</th>\n",
              "      <th>39</th>\n",
              "      <th>...</th>\n",
              "      <th>48</th>\n",
              "      <th>49</th>\n",
              "      <th>50</th>\n",
              "      <th>51</th>\n",
              "      <th>52</th>\n",
              "      <th>53</th>\n",
              "      <th>54</th>\n",
              "      <th>55</th>\n",
              "      <th>56</th>\n",
              "      <th>57</th>\n",
              "      <th>58</th>\n",
              "      <th>59</th>\n",
              "      <th>60</th>\n",
              "      <th>61</th>\n",
              "      <th>62</th>\n",
              "      <th>63</th>\n",
              "      <th>64</th>\n",
              "      <th>65</th>\n",
              "      <th>66</th>\n",
              "      <th>67</th>\n",
              "      <th>68</th>\n",
              "      <th>69</th>\n",
              "      <th>70</th>\n",
              "      <th>71</th>\n",
              "      <th>72</th>\n",
              "      <th>73</th>\n",
              "      <th>74</th>\n",
              "      <th>75</th>\n",
              "      <th>76</th>\n",
              "      <th>77</th>\n",
              "      <th>78</th>\n",
              "      <th>79</th>\n",
              "      <th>80</th>\n",
              "      <th>81</th>\n",
              "      <th>82</th>\n",
              "      <th>83</th>\n",
              "      <th>84</th>\n",
              "      <th>85</th>\n",
              "      <th>86</th>\n",
              "      <th>87</th>\n",
              "    </tr>\n",
              "  </thead>\n",
              "  <tbody>\n",
              "    <tr>\n",
              "      <th>0</th>\n",
              "      <td>0.000</td>\n",
              "      <td>0.00000</td>\n",
              "      <td>0.0</td>\n",
              "      <td>0.000000</td>\n",
              "      <td>0.000000</td>\n",
              "      <td>0.000000</td>\n",
              "      <td>0.000000</td>\n",
              "      <td>0.000000</td>\n",
              "      <td>0.000000</td>\n",
              "      <td>0.0</td>\n",
              "      <td>0.000000</td>\n",
              "      <td>0.000000</td>\n",
              "      <td>0.000000</td>\n",
              "      <td>0.0</td>\n",
              "      <td>0.000000</td>\n",
              "      <td>0.0</td>\n",
              "      <td>0.000000</td>\n",
              "      <td>0.0</td>\n",
              "      <td>0.0</td>\n",
              "      <td>0.0</td>\n",
              "      <td>0.0</td>\n",
              "      <td>0.0</td>\n",
              "      <td>494.528</td>\n",
              "      <td>437641.96875</td>\n",
              "      <td>6470972.5</td>\n",
              "      <td>-469.501831</td>\n",
              "      <td>19.480835</td>\n",
              "      <td>1.611410</td>\n",
              "      <td>1.798681</td>\n",
              "      <td>1.884186</td>\n",
              "      <td>80.200851</td>\n",
              "      <td>-9999.0</td>\n",
              "      <td>20.915468</td>\n",
              "      <td>161.131180</td>\n",
              "      <td>24.612379</td>\n",
              "      <td>-9999.0</td>\n",
              "      <td>34.636410</td>\n",
              "      <td>-9999.0</td>\n",
              "      <td>-0.574928</td>\n",
              "      <td>-9999.0</td>\n",
              "      <td>...</td>\n",
              "      <td>19.468800</td>\n",
              "      <td>1.618070</td>\n",
              "      <td>1.795641</td>\n",
              "      <td>1.889794</td>\n",
              "      <td>79.262886</td>\n",
              "      <td>-9999.0</td>\n",
              "      <td>19.383013</td>\n",
              "      <td>160.603470</td>\n",
              "      <td>23.895531</td>\n",
              "      <td>-9999.0</td>\n",
              "      <td>34.636410</td>\n",
              "      <td>-9999.0</td>\n",
              "      <td>-0.570188</td>\n",
              "      <td>-9999.0</td>\n",
              "      <td>1.0</td>\n",
              "      <td>6.0</td>\n",
              "      <td>-1.0</td>\n",
              "      <td>0.0</td>\n",
              "      <td>1.0</td>\n",
              "      <td>0.0</td>\n",
              "      <td>0.0</td>\n",
              "      <td>-0.999852</td>\n",
              "      <td>-0.079180</td>\n",
              "      <td>0.043819</td>\n",
              "      <td>-0.020000</td>\n",
              "      <td>0.036893</td>\n",
              "      <td>-6.170825</td>\n",
              "      <td>0.0</td>\n",
              "      <td>-10.081944</td>\n",
              "      <td>-3.471776</td>\n",
              "      <td>-4.716108</td>\n",
              "      <td>0.0</td>\n",
              "      <td>0.000000</td>\n",
              "      <td>0.0</td>\n",
              "      <td>0.031179</td>\n",
              "      <td>0.0</td>\n",
              "      <td>0.0</td>\n",
              "      <td>0.0</td>\n",
              "      <td>0.0</td>\n",
              "      <td>0.0</td>\n",
              "    </tr>\n",
              "    <tr>\n",
              "      <th>1</th>\n",
              "      <td>494.528</td>\n",
              "      <td>437641.96875</td>\n",
              "      <td>6470972.5</td>\n",
              "      <td>-469.501831</td>\n",
              "      <td>19.480835</td>\n",
              "      <td>1.611410</td>\n",
              "      <td>1.798681</td>\n",
              "      <td>1.884186</td>\n",
              "      <td>80.200851</td>\n",
              "      <td>-9999.0</td>\n",
              "      <td>20.915468</td>\n",
              "      <td>161.131180</td>\n",
              "      <td>24.612379</td>\n",
              "      <td>-9999.0</td>\n",
              "      <td>34.636410</td>\n",
              "      <td>-9999.0</td>\n",
              "      <td>-0.574928</td>\n",
              "      <td>-9999.0</td>\n",
              "      <td>1.0</td>\n",
              "      <td>6.0</td>\n",
              "      <td>-1.0</td>\n",
              "      <td>0.0</td>\n",
              "      <td>494.680</td>\n",
              "      <td>437641.96875</td>\n",
              "      <td>6470972.5</td>\n",
              "      <td>-469.653809</td>\n",
              "      <td>19.468800</td>\n",
              "      <td>1.618070</td>\n",
              "      <td>1.795641</td>\n",
              "      <td>1.889794</td>\n",
              "      <td>79.262886</td>\n",
              "      <td>-9999.0</td>\n",
              "      <td>19.383013</td>\n",
              "      <td>160.603470</td>\n",
              "      <td>23.895531</td>\n",
              "      <td>-9999.0</td>\n",
              "      <td>34.636410</td>\n",
              "      <td>-9999.0</td>\n",
              "      <td>-0.570188</td>\n",
              "      <td>-9999.0</td>\n",
              "      <td>...</td>\n",
              "      <td>19.468800</td>\n",
              "      <td>1.626459</td>\n",
              "      <td>1.800733</td>\n",
              "      <td>1.896523</td>\n",
              "      <td>74.821999</td>\n",
              "      <td>-9999.0</td>\n",
              "      <td>22.591518</td>\n",
              "      <td>160.173615</td>\n",
              "      <td>23.916357</td>\n",
              "      <td>-9999.0</td>\n",
              "      <td>34.779556</td>\n",
              "      <td>-9999.0</td>\n",
              "      <td>-0.574245</td>\n",
              "      <td>-9999.0</td>\n",
              "      <td>1.0</td>\n",
              "      <td>6.0</td>\n",
              "      <td>-1.0</td>\n",
              "      <td>0.0</td>\n",
              "      <td>1.0</td>\n",
              "      <td>0.0</td>\n",
              "      <td>0.0</td>\n",
              "      <td>-0.999852</td>\n",
              "      <td>0.000000</td>\n",
              "      <td>0.055186</td>\n",
              "      <td>0.033500</td>\n",
              "      <td>0.044271</td>\n",
              "      <td>-29.216365</td>\n",
              "      <td>0.0</td>\n",
              "      <td>21.108590</td>\n",
              "      <td>-2.827996</td>\n",
              "      <td>0.137015</td>\n",
              "      <td>0.0</td>\n",
              "      <td>0.941753</td>\n",
              "      <td>0.0</td>\n",
              "      <td>-0.026689</td>\n",
              "      <td>0.0</td>\n",
              "      <td>0.0</td>\n",
              "      <td>0.0</td>\n",
              "      <td>0.0</td>\n",
              "      <td>0.0</td>\n",
              "    </tr>\n",
              "    <tr>\n",
              "      <th>2</th>\n",
              "      <td>494.680</td>\n",
              "      <td>437641.96875</td>\n",
              "      <td>6470972.5</td>\n",
              "      <td>-469.653809</td>\n",
              "      <td>19.468800</td>\n",
              "      <td>1.618070</td>\n",
              "      <td>1.795641</td>\n",
              "      <td>1.889794</td>\n",
              "      <td>79.262886</td>\n",
              "      <td>-9999.0</td>\n",
              "      <td>19.383013</td>\n",
              "      <td>160.603470</td>\n",
              "      <td>23.895531</td>\n",
              "      <td>-9999.0</td>\n",
              "      <td>34.636410</td>\n",
              "      <td>-9999.0</td>\n",
              "      <td>-0.570188</td>\n",
              "      <td>-9999.0</td>\n",
              "      <td>1.0</td>\n",
              "      <td>6.0</td>\n",
              "      <td>-1.0</td>\n",
              "      <td>0.0</td>\n",
              "      <td>494.832</td>\n",
              "      <td>437641.96875</td>\n",
              "      <td>6470972.5</td>\n",
              "      <td>-469.805786</td>\n",
              "      <td>19.468800</td>\n",
              "      <td>1.626459</td>\n",
              "      <td>1.800733</td>\n",
              "      <td>1.896523</td>\n",
              "      <td>74.821999</td>\n",
              "      <td>-9999.0</td>\n",
              "      <td>22.591518</td>\n",
              "      <td>160.173615</td>\n",
              "      <td>23.916357</td>\n",
              "      <td>-9999.0</td>\n",
              "      <td>34.779556</td>\n",
              "      <td>-9999.0</td>\n",
              "      <td>-0.574245</td>\n",
              "      <td>-9999.0</td>\n",
              "      <td>...</td>\n",
              "      <td>19.459282</td>\n",
              "      <td>1.621594</td>\n",
              "      <td>1.801517</td>\n",
              "      <td>1.891913</td>\n",
              "      <td>72.878922</td>\n",
              "      <td>-9999.0</td>\n",
              "      <td>32.191910</td>\n",
              "      <td>160.149429</td>\n",
              "      <td>23.793688</td>\n",
              "      <td>-9999.0</td>\n",
              "      <td>39.965164</td>\n",
              "      <td>-9999.0</td>\n",
              "      <td>-0.586315</td>\n",
              "      <td>-9999.0</td>\n",
              "      <td>1.0</td>\n",
              "      <td>6.0</td>\n",
              "      <td>-1.0</td>\n",
              "      <td>0.0</td>\n",
              "      <td>1.0</td>\n",
              "      <td>0.0</td>\n",
              "      <td>0.0</td>\n",
              "      <td>-1.000053</td>\n",
              "      <td>-0.062616</td>\n",
              "      <td>-0.032003</td>\n",
              "      <td>0.005153</td>\n",
              "      <td>-0.030329</td>\n",
              "      <td>-12.783402</td>\n",
              "      <td>0.0</td>\n",
              "      <td>63.160470</td>\n",
              "      <td>-0.159113</td>\n",
              "      <td>-0.807034</td>\n",
              "      <td>0.0</td>\n",
              "      <td>34.115842</td>\n",
              "      <td>0.0</td>\n",
              "      <td>-0.079409</td>\n",
              "      <td>0.0</td>\n",
              "      <td>0.0</td>\n",
              "      <td>0.0</td>\n",
              "      <td>0.0</td>\n",
              "      <td>0.0</td>\n",
              "    </tr>\n",
              "    <tr>\n",
              "      <th>3</th>\n",
              "      <td>494.832</td>\n",
              "      <td>437641.96875</td>\n",
              "      <td>6470972.5</td>\n",
              "      <td>-469.805786</td>\n",
              "      <td>19.468800</td>\n",
              "      <td>1.626459</td>\n",
              "      <td>1.800733</td>\n",
              "      <td>1.896523</td>\n",
              "      <td>74.821999</td>\n",
              "      <td>-9999.0</td>\n",
              "      <td>22.591518</td>\n",
              "      <td>160.173615</td>\n",
              "      <td>23.916357</td>\n",
              "      <td>-9999.0</td>\n",
              "      <td>34.779556</td>\n",
              "      <td>-9999.0</td>\n",
              "      <td>-0.574245</td>\n",
              "      <td>-9999.0</td>\n",
              "      <td>1.0</td>\n",
              "      <td>6.0</td>\n",
              "      <td>-1.0</td>\n",
              "      <td>0.0</td>\n",
              "      <td>494.984</td>\n",
              "      <td>437641.96875</td>\n",
              "      <td>6470972.5</td>\n",
              "      <td>-469.957794</td>\n",
              "      <td>19.459282</td>\n",
              "      <td>1.621594</td>\n",
              "      <td>1.801517</td>\n",
              "      <td>1.891913</td>\n",
              "      <td>72.878922</td>\n",
              "      <td>-9999.0</td>\n",
              "      <td>32.191910</td>\n",
              "      <td>160.149429</td>\n",
              "      <td>23.793688</td>\n",
              "      <td>-9999.0</td>\n",
              "      <td>39.965164</td>\n",
              "      <td>-9999.0</td>\n",
              "      <td>-0.586315</td>\n",
              "      <td>-9999.0</td>\n",
              "      <td>...</td>\n",
              "      <td>19.453100</td>\n",
              "      <td>1.602679</td>\n",
              "      <td>1.795299</td>\n",
              "      <td>1.880034</td>\n",
              "      <td>71.729141</td>\n",
              "      <td>-9999.0</td>\n",
              "      <td>38.495632</td>\n",
              "      <td>160.128342</td>\n",
              "      <td>24.104078</td>\n",
              "      <td>-9999.0</td>\n",
              "      <td>57.483765</td>\n",
              "      <td>-9999.0</td>\n",
              "      <td>-0.597914</td>\n",
              "      <td>-9999.0</td>\n",
              "      <td>1.0</td>\n",
              "      <td>6.0</td>\n",
              "      <td>-1.0</td>\n",
              "      <td>0.0</td>\n",
              "      <td>1.0</td>\n",
              "      <td>0.0</td>\n",
              "      <td>0.0</td>\n",
              "      <td>-0.999852</td>\n",
              "      <td>-0.040669</td>\n",
              "      <td>-0.124441</td>\n",
              "      <td>-0.040905</td>\n",
              "      <td>-0.078150</td>\n",
              "      <td>-7.564344</td>\n",
              "      <td>0.0</td>\n",
              "      <td>41.471858</td>\n",
              "      <td>-0.138735</td>\n",
              "      <td>2.042043</td>\n",
              "      <td>0.0</td>\n",
              "      <td>115.253950</td>\n",
              "      <td>0.0</td>\n",
              "      <td>-0.076305</td>\n",
              "      <td>0.0</td>\n",
              "      <td>0.0</td>\n",
              "      <td>0.0</td>\n",
              "      <td>0.0</td>\n",
              "      <td>0.0</td>\n",
              "    </tr>\n",
              "    <tr>\n",
              "      <th>4</th>\n",
              "      <td>494.984</td>\n",
              "      <td>437641.96875</td>\n",
              "      <td>6470972.5</td>\n",
              "      <td>-469.957794</td>\n",
              "      <td>19.459282</td>\n",
              "      <td>1.621594</td>\n",
              "      <td>1.801517</td>\n",
              "      <td>1.891913</td>\n",
              "      <td>72.878922</td>\n",
              "      <td>-9999.0</td>\n",
              "      <td>32.191910</td>\n",
              "      <td>160.149429</td>\n",
              "      <td>23.793688</td>\n",
              "      <td>-9999.0</td>\n",
              "      <td>39.965164</td>\n",
              "      <td>-9999.0</td>\n",
              "      <td>-0.586315</td>\n",
              "      <td>-9999.0</td>\n",
              "      <td>1.0</td>\n",
              "      <td>6.0</td>\n",
              "      <td>-1.0</td>\n",
              "      <td>0.0</td>\n",
              "      <td>495.136</td>\n",
              "      <td>437641.96875</td>\n",
              "      <td>6470972.5</td>\n",
              "      <td>-470.109772</td>\n",
              "      <td>19.453100</td>\n",
              "      <td>1.602679</td>\n",
              "      <td>1.795299</td>\n",
              "      <td>1.880034</td>\n",
              "      <td>71.729141</td>\n",
              "      <td>-9999.0</td>\n",
              "      <td>38.495632</td>\n",
              "      <td>160.128342</td>\n",
              "      <td>24.104078</td>\n",
              "      <td>-9999.0</td>\n",
              "      <td>57.483765</td>\n",
              "      <td>-9999.0</td>\n",
              "      <td>-0.597914</td>\n",
              "      <td>-9999.0</td>\n",
              "      <td>...</td>\n",
              "      <td>19.453100</td>\n",
              "      <td>1.585567</td>\n",
              "      <td>1.804719</td>\n",
              "      <td>1.879687</td>\n",
              "      <td>72.014420</td>\n",
              "      <td>-9999.0</td>\n",
              "      <td>43.657482</td>\n",
              "      <td>160.149292</td>\n",
              "      <td>23.931278</td>\n",
              "      <td>-9999.0</td>\n",
              "      <td>75.281410</td>\n",
              "      <td>-9999.0</td>\n",
              "      <td>-0.601600</td>\n",
              "      <td>-9999.0</td>\n",
              "      <td>1.0</td>\n",
              "      <td>6.0</td>\n",
              "      <td>-1.0</td>\n",
              "      <td>0.0</td>\n",
              "      <td>1.0</td>\n",
              "      <td>0.0</td>\n",
              "      <td>0.0</td>\n",
              "      <td>-1.000053</td>\n",
              "      <td>0.000000</td>\n",
              "      <td>-0.112580</td>\n",
              "      <td>0.061971</td>\n",
              "      <td>-0.002281</td>\n",
              "      <td>1.876831</td>\n",
              "      <td>0.0</td>\n",
              "      <td>33.959539</td>\n",
              "      <td>0.137831</td>\n",
              "      <td>-1.136843</td>\n",
              "      <td>0.0</td>\n",
              "      <td>117.089773</td>\n",
              "      <td>0.0</td>\n",
              "      <td>-0.024252</td>\n",
              "      <td>0.0</td>\n",
              "      <td>0.0</td>\n",
              "      <td>0.0</td>\n",
              "      <td>0.0</td>\n",
              "      <td>0.0</td>\n",
              "    </tr>\n",
              "    <tr>\n",
              "      <th>5</th>\n",
              "      <td>495.136</td>\n",
              "      <td>437641.96875</td>\n",
              "      <td>6470972.5</td>\n",
              "      <td>-470.109772</td>\n",
              "      <td>19.453100</td>\n",
              "      <td>1.602679</td>\n",
              "      <td>1.795299</td>\n",
              "      <td>1.880034</td>\n",
              "      <td>71.729141</td>\n",
              "      <td>-9999.0</td>\n",
              "      <td>38.495632</td>\n",
              "      <td>160.128342</td>\n",
              "      <td>24.104078</td>\n",
              "      <td>-9999.0</td>\n",
              "      <td>57.483765</td>\n",
              "      <td>-9999.0</td>\n",
              "      <td>-0.597914</td>\n",
              "      <td>-9999.0</td>\n",
              "      <td>1.0</td>\n",
              "      <td>6.0</td>\n",
              "      <td>-1.0</td>\n",
              "      <td>0.0</td>\n",
              "      <td>495.288</td>\n",
              "      <td>437641.96875</td>\n",
              "      <td>6470972.5</td>\n",
              "      <td>-470.261780</td>\n",
              "      <td>19.453100</td>\n",
              "      <td>1.585567</td>\n",
              "      <td>1.804719</td>\n",
              "      <td>1.879687</td>\n",
              "      <td>72.014420</td>\n",
              "      <td>-9999.0</td>\n",
              "      <td>43.657482</td>\n",
              "      <td>160.149292</td>\n",
              "      <td>23.931278</td>\n",
              "      <td>-9999.0</td>\n",
              "      <td>75.281410</td>\n",
              "      <td>-9999.0</td>\n",
              "      <td>-0.601600</td>\n",
              "      <td>-9999.0</td>\n",
              "      <td>...</td>\n",
              "      <td>19.462496</td>\n",
              "      <td>1.576569</td>\n",
              "      <td>1.805498</td>\n",
              "      <td>1.878731</td>\n",
              "      <td>72.588089</td>\n",
              "      <td>-9999.0</td>\n",
              "      <td>42.236221</td>\n",
              "      <td>161.250381</td>\n",
              "      <td>23.381790</td>\n",
              "      <td>-9999.0</td>\n",
              "      <td>76.199951</td>\n",
              "      <td>-9999.0</td>\n",
              "      <td>-0.598369</td>\n",
              "      <td>-9999.0</td>\n",
              "      <td>1.0</td>\n",
              "      <td>6.0</td>\n",
              "      <td>-1.0</td>\n",
              "      <td>0.0</td>\n",
              "      <td>1.0</td>\n",
              "      <td>0.0</td>\n",
              "      <td>0.0</td>\n",
              "      <td>-1.000053</td>\n",
              "      <td>0.061813</td>\n",
              "      <td>-0.059194</td>\n",
              "      <td>0.005131</td>\n",
              "      <td>-0.006294</td>\n",
              "      <td>3.774141</td>\n",
              "      <td>0.0</td>\n",
              "      <td>-9.350400</td>\n",
              "      <td>7.244010</td>\n",
              "      <td>-3.615053</td>\n",
              "      <td>0.0</td>\n",
              "      <td>6.043033</td>\n",
              "      <td>0.0</td>\n",
              "      <td>0.021260</td>\n",
              "      <td>0.0</td>\n",
              "      <td>0.0</td>\n",
              "      <td>0.0</td>\n",
              "      <td>0.0</td>\n",
              "      <td>0.0</td>\n",
              "    </tr>\n",
              "    <tr>\n",
              "      <th>6</th>\n",
              "      <td>495.288</td>\n",
              "      <td>437641.96875</td>\n",
              "      <td>6470972.5</td>\n",
              "      <td>-470.261780</td>\n",
              "      <td>19.453100</td>\n",
              "      <td>1.585567</td>\n",
              "      <td>1.804719</td>\n",
              "      <td>1.879687</td>\n",
              "      <td>72.014420</td>\n",
              "      <td>-9999.0</td>\n",
              "      <td>43.657482</td>\n",
              "      <td>160.149292</td>\n",
              "      <td>23.931278</td>\n",
              "      <td>-9999.0</td>\n",
              "      <td>75.281410</td>\n",
              "      <td>-9999.0</td>\n",
              "      <td>-0.601600</td>\n",
              "      <td>-9999.0</td>\n",
              "      <td>1.0</td>\n",
              "      <td>6.0</td>\n",
              "      <td>-1.0</td>\n",
              "      <td>0.0</td>\n",
              "      <td>495.440</td>\n",
              "      <td>437641.96875</td>\n",
              "      <td>6470972.5</td>\n",
              "      <td>-470.413788</td>\n",
              "      <td>19.462496</td>\n",
              "      <td>1.576569</td>\n",
              "      <td>1.805498</td>\n",
              "      <td>1.878731</td>\n",
              "      <td>72.588089</td>\n",
              "      <td>-9999.0</td>\n",
              "      <td>42.236221</td>\n",
              "      <td>161.250381</td>\n",
              "      <td>23.381790</td>\n",
              "      <td>-9999.0</td>\n",
              "      <td>76.199951</td>\n",
              "      <td>-9999.0</td>\n",
              "      <td>-0.598369</td>\n",
              "      <td>-9999.0</td>\n",
              "      <td>...</td>\n",
              "      <td>19.468800</td>\n",
              "      <td>1.587011</td>\n",
              "      <td>1.808367</td>\n",
              "      <td>1.867837</td>\n",
              "      <td>71.283051</td>\n",
              "      <td>-9999.0</td>\n",
              "      <td>39.933563</td>\n",
              "      <td>162.214416</td>\n",
              "      <td>23.632166</td>\n",
              "      <td>-9999.0</td>\n",
              "      <td>76.199951</td>\n",
              "      <td>-9999.0</td>\n",
              "      <td>-0.602039</td>\n",
              "      <td>-9999.0</td>\n",
              "      <td>1.0</td>\n",
              "      <td>6.0</td>\n",
              "      <td>-1.0</td>\n",
              "      <td>0.0</td>\n",
              "      <td>1.0</td>\n",
              "      <td>0.0</td>\n",
              "      <td>0.0</td>\n",
              "      <td>-1.000053</td>\n",
              "      <td>0.041472</td>\n",
              "      <td>0.068694</td>\n",
              "      <td>0.018873</td>\n",
              "      <td>-0.071670</td>\n",
              "      <td>-8.585779</td>\n",
              "      <td>0.0</td>\n",
              "      <td>-15.149066</td>\n",
              "      <td>6.342336</td>\n",
              "      <td>1.647209</td>\n",
              "      <td>0.0</td>\n",
              "      <td>0.000000</td>\n",
              "      <td>0.0</td>\n",
              "      <td>-0.024150</td>\n",
              "      <td>0.0</td>\n",
              "      <td>0.0</td>\n",
              "      <td>0.0</td>\n",
              "      <td>0.0</td>\n",
              "      <td>0.0</td>\n",
              "    </tr>\n",
              "    <tr>\n",
              "      <th>7</th>\n",
              "      <td>495.440</td>\n",
              "      <td>437641.96875</td>\n",
              "      <td>6470972.5</td>\n",
              "      <td>-470.413788</td>\n",
              "      <td>19.462496</td>\n",
              "      <td>1.576569</td>\n",
              "      <td>1.805498</td>\n",
              "      <td>1.878731</td>\n",
              "      <td>72.588089</td>\n",
              "      <td>-9999.0</td>\n",
              "      <td>42.236221</td>\n",
              "      <td>161.250381</td>\n",
              "      <td>23.381790</td>\n",
              "      <td>-9999.0</td>\n",
              "      <td>76.199951</td>\n",
              "      <td>-9999.0</td>\n",
              "      <td>-0.598369</td>\n",
              "      <td>-9999.0</td>\n",
              "      <td>1.0</td>\n",
              "      <td>6.0</td>\n",
              "      <td>-1.0</td>\n",
              "      <td>0.0</td>\n",
              "      <td>495.592</td>\n",
              "      <td>437641.96875</td>\n",
              "      <td>6470972.5</td>\n",
              "      <td>-470.565796</td>\n",
              "      <td>19.468800</td>\n",
              "      <td>1.587011</td>\n",
              "      <td>1.808367</td>\n",
              "      <td>1.867837</td>\n",
              "      <td>71.283051</td>\n",
              "      <td>-9999.0</td>\n",
              "      <td>39.933563</td>\n",
              "      <td>162.214416</td>\n",
              "      <td>23.632166</td>\n",
              "      <td>-9999.0</td>\n",
              "      <td>76.199951</td>\n",
              "      <td>-9999.0</td>\n",
              "      <td>-0.602039</td>\n",
              "      <td>-9999.0</td>\n",
              "      <td>...</td>\n",
              "      <td>19.468800</td>\n",
              "      <td>1.613674</td>\n",
              "      <td>1.815813</td>\n",
              "      <td>1.847233</td>\n",
              "      <td>69.721436</td>\n",
              "      <td>-9999.0</td>\n",
              "      <td>39.163223</td>\n",
              "      <td>161.575104</td>\n",
              "      <td>22.163542</td>\n",
              "      <td>-9999.0</td>\n",
              "      <td>75.898796</td>\n",
              "      <td>-9999.0</td>\n",
              "      <td>-0.614364</td>\n",
              "      <td>-9999.0</td>\n",
              "      <td>1.0</td>\n",
              "      <td>6.0</td>\n",
              "      <td>-1.0</td>\n",
              "      <td>0.0</td>\n",
              "      <td>1.0</td>\n",
              "      <td>0.0</td>\n",
              "      <td>0.0</td>\n",
              "      <td>-0.999852</td>\n",
              "      <td>0.000000</td>\n",
              "      <td>0.175414</td>\n",
              "      <td>0.048988</td>\n",
              "      <td>-0.135553</td>\n",
              "      <td>-10.273783</td>\n",
              "      <td>0.0</td>\n",
              "      <td>-5.068026</td>\n",
              "      <td>-4.206005</td>\n",
              "      <td>-9.662001</td>\n",
              "      <td>0.0</td>\n",
              "      <td>-1.981283</td>\n",
              "      <td>0.0</td>\n",
              "      <td>-0.081083</td>\n",
              "      <td>0.0</td>\n",
              "      <td>0.0</td>\n",
              "      <td>0.0</td>\n",
              "      <td>0.0</td>\n",
              "      <td>0.0</td>\n",
              "    </tr>\n",
              "    <tr>\n",
              "      <th>8</th>\n",
              "      <td>495.592</td>\n",
              "      <td>437641.96875</td>\n",
              "      <td>6470972.5</td>\n",
              "      <td>-470.565796</td>\n",
              "      <td>19.468800</td>\n",
              "      <td>1.587011</td>\n",
              "      <td>1.808367</td>\n",
              "      <td>1.867837</td>\n",
              "      <td>71.283051</td>\n",
              "      <td>-9999.0</td>\n",
              "      <td>39.933563</td>\n",
              "      <td>162.214416</td>\n",
              "      <td>23.632166</td>\n",
              "      <td>-9999.0</td>\n",
              "      <td>76.199951</td>\n",
              "      <td>-9999.0</td>\n",
              "      <td>-0.602039</td>\n",
              "      <td>-9999.0</td>\n",
              "      <td>1.0</td>\n",
              "      <td>6.0</td>\n",
              "      <td>-1.0</td>\n",
              "      <td>0.0</td>\n",
              "      <td>495.744</td>\n",
              "      <td>437641.96875</td>\n",
              "      <td>6470972.5</td>\n",
              "      <td>-470.717773</td>\n",
              "      <td>19.468800</td>\n",
              "      <td>1.613674</td>\n",
              "      <td>1.815813</td>\n",
              "      <td>1.847233</td>\n",
              "      <td>69.721436</td>\n",
              "      <td>-9999.0</td>\n",
              "      <td>39.163223</td>\n",
              "      <td>161.575104</td>\n",
              "      <td>22.163542</td>\n",
              "      <td>-9999.0</td>\n",
              "      <td>75.898796</td>\n",
              "      <td>-9999.0</td>\n",
              "      <td>-0.614364</td>\n",
              "      <td>-9999.0</td>\n",
              "      <td>...</td>\n",
              "      <td>19.468800</td>\n",
              "      <td>1.634622</td>\n",
              "      <td>1.813916</td>\n",
              "      <td>1.836309</td>\n",
              "      <td>66.677727</td>\n",
              "      <td>-9999.0</td>\n",
              "      <td>37.802933</td>\n",
              "      <td>160.583359</td>\n",
              "      <td>23.659925</td>\n",
              "      <td>-9999.0</td>\n",
              "      <td>68.121262</td>\n",
              "      <td>-9999.0</td>\n",
              "      <td>-0.621813</td>\n",
              "      <td>-9999.0</td>\n",
              "      <td>1.0</td>\n",
              "      <td>6.0</td>\n",
              "      <td>-1.0</td>\n",
              "      <td>0.0</td>\n",
              "      <td>1.0</td>\n",
              "      <td>0.0</td>\n",
              "      <td>0.0</td>\n",
              "      <td>-1.000053</td>\n",
              "      <td>0.000000</td>\n",
              "      <td>0.137817</td>\n",
              "      <td>-0.012484</td>\n",
              "      <td>-0.071865</td>\n",
              "      <td>-20.024400</td>\n",
              "      <td>0.0</td>\n",
              "      <td>-8.949280</td>\n",
              "      <td>-6.524638</td>\n",
              "      <td>9.844629</td>\n",
              "      <td>0.0</td>\n",
              "      <td>-51.167990</td>\n",
              "      <td>0.0</td>\n",
              "      <td>-0.049004</td>\n",
              "      <td>0.0</td>\n",
              "      <td>0.0</td>\n",
              "      <td>0.0</td>\n",
              "      <td>0.0</td>\n",
              "      <td>0.0</td>\n",
              "    </tr>\n",
              "    <tr>\n",
              "      <th>9</th>\n",
              "      <td>495.744</td>\n",
              "      <td>437641.96875</td>\n",
              "      <td>6470972.5</td>\n",
              "      <td>-470.717773</td>\n",
              "      <td>19.468800</td>\n",
              "      <td>1.613674</td>\n",
              "      <td>1.815813</td>\n",
              "      <td>1.847233</td>\n",
              "      <td>69.721436</td>\n",
              "      <td>-9999.0</td>\n",
              "      <td>39.163223</td>\n",
              "      <td>161.575104</td>\n",
              "      <td>22.163542</td>\n",
              "      <td>-9999.0</td>\n",
              "      <td>75.898796</td>\n",
              "      <td>-9999.0</td>\n",
              "      <td>-0.614364</td>\n",
              "      <td>-9999.0</td>\n",
              "      <td>1.0</td>\n",
              "      <td>6.0</td>\n",
              "      <td>-1.0</td>\n",
              "      <td>0.0</td>\n",
              "      <td>495.896</td>\n",
              "      <td>437641.96875</td>\n",
              "      <td>6470972.5</td>\n",
              "      <td>-470.869782</td>\n",
              "      <td>19.468800</td>\n",
              "      <td>1.634622</td>\n",
              "      <td>1.813916</td>\n",
              "      <td>1.836309</td>\n",
              "      <td>66.677727</td>\n",
              "      <td>-9999.0</td>\n",
              "      <td>37.802933</td>\n",
              "      <td>160.583359</td>\n",
              "      <td>23.659925</td>\n",
              "      <td>-9999.0</td>\n",
              "      <td>68.121262</td>\n",
              "      <td>-9999.0</td>\n",
              "      <td>-0.621813</td>\n",
              "      <td>-9999.0</td>\n",
              "      <td>...</td>\n",
              "      <td>19.468800</td>\n",
              "      <td>1.638895</td>\n",
              "      <td>1.811500</td>\n",
              "      <td>1.845130</td>\n",
              "      <td>65.892799</td>\n",
              "      <td>-9999.0</td>\n",
              "      <td>36.285534</td>\n",
              "      <td>159.624390</td>\n",
              "      <td>24.038725</td>\n",
              "      <td>-9999.0</td>\n",
              "      <td>47.227142</td>\n",
              "      <td>-9999.0</td>\n",
              "      <td>-0.611830</td>\n",
              "      <td>-9999.0</td>\n",
              "      <td>1.0</td>\n",
              "      <td>6.0</td>\n",
              "      <td>-1.0</td>\n",
              "      <td>0.0</td>\n",
              "      <td>1.0</td>\n",
              "      <td>0.0</td>\n",
              "      <td>0.0</td>\n",
              "      <td>-1.000053</td>\n",
              "      <td>0.000000</td>\n",
              "      <td>0.028114</td>\n",
              "      <td>-0.015894</td>\n",
              "      <td>0.058028</td>\n",
              "      <td>-5.163996</td>\n",
              "      <td>0.0</td>\n",
              "      <td>-9.982887</td>\n",
              "      <td>-6.309007</td>\n",
              "      <td>2.492102</td>\n",
              "      <td>0.0</td>\n",
              "      <td>-137.461311</td>\n",
              "      <td>0.0</td>\n",
              "      <td>0.065673</td>\n",
              "      <td>0.0</td>\n",
              "      <td>0.0</td>\n",
              "      <td>0.0</td>\n",
              "      <td>0.0</td>\n",
              "      <td>0.0</td>\n",
              "    </tr>\n",
              "  </tbody>\n",
              "</table>\n",
              "<p>10 rows × 88 columns</p>\n",
              "</div>"
            ],
            "text/plain": [
              "        0             1          2           3   ...   84   85   86   87\n",
              "0    0.000       0.00000        0.0    0.000000  ...  0.0  0.0  0.0  0.0\n",
              "1  494.528  437641.96875  6470972.5 -469.501831  ...  0.0  0.0  0.0  0.0\n",
              "2  494.680  437641.96875  6470972.5 -469.653809  ...  0.0  0.0  0.0  0.0\n",
              "3  494.832  437641.96875  6470972.5 -469.805786  ...  0.0  0.0  0.0  0.0\n",
              "4  494.984  437641.96875  6470972.5 -469.957794  ...  0.0  0.0  0.0  0.0\n",
              "5  495.136  437641.96875  6470972.5 -470.109772  ...  0.0  0.0  0.0  0.0\n",
              "6  495.288  437641.96875  6470972.5 -470.261780  ...  0.0  0.0  0.0  0.0\n",
              "7  495.440  437641.96875  6470972.5 -470.413788  ...  0.0  0.0  0.0  0.0\n",
              "8  495.592  437641.96875  6470972.5 -470.565796  ...  0.0  0.0  0.0  0.0\n",
              "9  495.744  437641.96875  6470972.5 -470.717773  ...  0.0  0.0  0.0  0.0\n",
              "\n",
              "[10 rows x 88 columns]"
            ]
          },
          "metadata": {
            "tags": []
          },
          "execution_count": 39
        }
      ]
    },
    {
      "cell_type": "code",
      "metadata": {
        "colab": {
          "base_uri": "https://localhost:8080/",
          "height": 379
        },
        "id": "yELkzCnmT5qn",
        "outputId": "145c5d58-2259-4aa5-d2c4-ce7d54e58add"
      },
      "source": [
        "train.head(10)"
      ],
      "execution_count": 40,
      "outputs": [
        {
          "output_type": "execute_result",
          "data": {
            "text/html": [
              "<div>\n",
              "<style scoped>\n",
              "    .dataframe tbody tr th:only-of-type {\n",
              "        vertical-align: middle;\n",
              "    }\n",
              "\n",
              "    .dataframe tbody tr th {\n",
              "        vertical-align: top;\n",
              "    }\n",
              "\n",
              "    .dataframe thead th {\n",
              "        text-align: right;\n",
              "    }\n",
              "</style>\n",
              "<table border=\"1\" class=\"dataframe\">\n",
              "  <thead>\n",
              "    <tr style=\"text-align: right;\">\n",
              "      <th></th>\n",
              "      <th>DEPTH_MD</th>\n",
              "      <th>X_LOC</th>\n",
              "      <th>Y_LOC</th>\n",
              "      <th>Z_LOC</th>\n",
              "      <th>CALI</th>\n",
              "      <th>RMED</th>\n",
              "      <th>RDEP</th>\n",
              "      <th>RHOB</th>\n",
              "      <th>GR</th>\n",
              "      <th>NPHI</th>\n",
              "      <th>PEF</th>\n",
              "      <th>DTC</th>\n",
              "      <th>SP</th>\n",
              "      <th>BS</th>\n",
              "      <th>ROP</th>\n",
              "      <th>DTS</th>\n",
              "      <th>DRHO</th>\n",
              "      <th>ROPA</th>\n",
              "      <th>FORCE_2020_LITHOFACIES_CONFIDENCE</th>\n",
              "      <th>GROUP_encoded</th>\n",
              "      <th>FORMATION_encoded</th>\n",
              "      <th>WELL_encoded</th>\n",
              "    </tr>\n",
              "  </thead>\n",
              "  <tbody>\n",
              "    <tr>\n",
              "      <th>0</th>\n",
              "      <td>494.528</td>\n",
              "      <td>437641.96875</td>\n",
              "      <td>6470972.5</td>\n",
              "      <td>-469.501831</td>\n",
              "      <td>19.480835</td>\n",
              "      <td>1.611410</td>\n",
              "      <td>1.798681</td>\n",
              "      <td>1.884186</td>\n",
              "      <td>80.200851</td>\n",
              "      <td>-9999.0</td>\n",
              "      <td>20.915468</td>\n",
              "      <td>161.131180</td>\n",
              "      <td>24.612379</td>\n",
              "      <td>-9999.0</td>\n",
              "      <td>34.636410</td>\n",
              "      <td>-9999.0</td>\n",
              "      <td>-0.574928</td>\n",
              "      <td>-9999.0</td>\n",
              "      <td>1.0</td>\n",
              "      <td>6</td>\n",
              "      <td>-1</td>\n",
              "      <td>0</td>\n",
              "    </tr>\n",
              "    <tr>\n",
              "      <th>1</th>\n",
              "      <td>494.680</td>\n",
              "      <td>437641.96875</td>\n",
              "      <td>6470972.5</td>\n",
              "      <td>-469.653809</td>\n",
              "      <td>19.468800</td>\n",
              "      <td>1.618070</td>\n",
              "      <td>1.795641</td>\n",
              "      <td>1.889794</td>\n",
              "      <td>79.262886</td>\n",
              "      <td>-9999.0</td>\n",
              "      <td>19.383013</td>\n",
              "      <td>160.603470</td>\n",
              "      <td>23.895531</td>\n",
              "      <td>-9999.0</td>\n",
              "      <td>34.636410</td>\n",
              "      <td>-9999.0</td>\n",
              "      <td>-0.570188</td>\n",
              "      <td>-9999.0</td>\n",
              "      <td>1.0</td>\n",
              "      <td>6</td>\n",
              "      <td>-1</td>\n",
              "      <td>0</td>\n",
              "    </tr>\n",
              "    <tr>\n",
              "      <th>2</th>\n",
              "      <td>494.832</td>\n",
              "      <td>437641.96875</td>\n",
              "      <td>6470972.5</td>\n",
              "      <td>-469.805786</td>\n",
              "      <td>19.468800</td>\n",
              "      <td>1.626459</td>\n",
              "      <td>1.800733</td>\n",
              "      <td>1.896523</td>\n",
              "      <td>74.821999</td>\n",
              "      <td>-9999.0</td>\n",
              "      <td>22.591518</td>\n",
              "      <td>160.173615</td>\n",
              "      <td>23.916357</td>\n",
              "      <td>-9999.0</td>\n",
              "      <td>34.779556</td>\n",
              "      <td>-9999.0</td>\n",
              "      <td>-0.574245</td>\n",
              "      <td>-9999.0</td>\n",
              "      <td>1.0</td>\n",
              "      <td>6</td>\n",
              "      <td>-1</td>\n",
              "      <td>0</td>\n",
              "    </tr>\n",
              "    <tr>\n",
              "      <th>3</th>\n",
              "      <td>494.984</td>\n",
              "      <td>437641.96875</td>\n",
              "      <td>6470972.5</td>\n",
              "      <td>-469.957794</td>\n",
              "      <td>19.459282</td>\n",
              "      <td>1.621594</td>\n",
              "      <td>1.801517</td>\n",
              "      <td>1.891913</td>\n",
              "      <td>72.878922</td>\n",
              "      <td>-9999.0</td>\n",
              "      <td>32.191910</td>\n",
              "      <td>160.149429</td>\n",
              "      <td>23.793688</td>\n",
              "      <td>-9999.0</td>\n",
              "      <td>39.965164</td>\n",
              "      <td>-9999.0</td>\n",
              "      <td>-0.586315</td>\n",
              "      <td>-9999.0</td>\n",
              "      <td>1.0</td>\n",
              "      <td>6</td>\n",
              "      <td>-1</td>\n",
              "      <td>0</td>\n",
              "    </tr>\n",
              "    <tr>\n",
              "      <th>4</th>\n",
              "      <td>495.136</td>\n",
              "      <td>437641.96875</td>\n",
              "      <td>6470972.5</td>\n",
              "      <td>-470.109772</td>\n",
              "      <td>19.453100</td>\n",
              "      <td>1.602679</td>\n",
              "      <td>1.795299</td>\n",
              "      <td>1.880034</td>\n",
              "      <td>71.729141</td>\n",
              "      <td>-9999.0</td>\n",
              "      <td>38.495632</td>\n",
              "      <td>160.128342</td>\n",
              "      <td>24.104078</td>\n",
              "      <td>-9999.0</td>\n",
              "      <td>57.483765</td>\n",
              "      <td>-9999.0</td>\n",
              "      <td>-0.597914</td>\n",
              "      <td>-9999.0</td>\n",
              "      <td>1.0</td>\n",
              "      <td>6</td>\n",
              "      <td>-1</td>\n",
              "      <td>0</td>\n",
              "    </tr>\n",
              "    <tr>\n",
              "      <th>5</th>\n",
              "      <td>495.288</td>\n",
              "      <td>437641.96875</td>\n",
              "      <td>6470972.5</td>\n",
              "      <td>-470.261780</td>\n",
              "      <td>19.453100</td>\n",
              "      <td>1.585567</td>\n",
              "      <td>1.804719</td>\n",
              "      <td>1.879687</td>\n",
              "      <td>72.014420</td>\n",
              "      <td>-9999.0</td>\n",
              "      <td>43.657482</td>\n",
              "      <td>160.149292</td>\n",
              "      <td>23.931278</td>\n",
              "      <td>-9999.0</td>\n",
              "      <td>75.281410</td>\n",
              "      <td>-9999.0</td>\n",
              "      <td>-0.601600</td>\n",
              "      <td>-9999.0</td>\n",
              "      <td>1.0</td>\n",
              "      <td>6</td>\n",
              "      <td>-1</td>\n",
              "      <td>0</td>\n",
              "    </tr>\n",
              "    <tr>\n",
              "      <th>6</th>\n",
              "      <td>495.440</td>\n",
              "      <td>437641.96875</td>\n",
              "      <td>6470972.5</td>\n",
              "      <td>-470.413788</td>\n",
              "      <td>19.462496</td>\n",
              "      <td>1.576569</td>\n",
              "      <td>1.805498</td>\n",
              "      <td>1.878731</td>\n",
              "      <td>72.588089</td>\n",
              "      <td>-9999.0</td>\n",
              "      <td>42.236221</td>\n",
              "      <td>161.250381</td>\n",
              "      <td>23.381790</td>\n",
              "      <td>-9999.0</td>\n",
              "      <td>76.199951</td>\n",
              "      <td>-9999.0</td>\n",
              "      <td>-0.598369</td>\n",
              "      <td>-9999.0</td>\n",
              "      <td>1.0</td>\n",
              "      <td>6</td>\n",
              "      <td>-1</td>\n",
              "      <td>0</td>\n",
              "    </tr>\n",
              "    <tr>\n",
              "      <th>7</th>\n",
              "      <td>495.592</td>\n",
              "      <td>437641.96875</td>\n",
              "      <td>6470972.5</td>\n",
              "      <td>-470.565796</td>\n",
              "      <td>19.468800</td>\n",
              "      <td>1.587011</td>\n",
              "      <td>1.808367</td>\n",
              "      <td>1.867837</td>\n",
              "      <td>71.283051</td>\n",
              "      <td>-9999.0</td>\n",
              "      <td>39.933563</td>\n",
              "      <td>162.214416</td>\n",
              "      <td>23.632166</td>\n",
              "      <td>-9999.0</td>\n",
              "      <td>76.199951</td>\n",
              "      <td>-9999.0</td>\n",
              "      <td>-0.602039</td>\n",
              "      <td>-9999.0</td>\n",
              "      <td>1.0</td>\n",
              "      <td>6</td>\n",
              "      <td>-1</td>\n",
              "      <td>0</td>\n",
              "    </tr>\n",
              "    <tr>\n",
              "      <th>8</th>\n",
              "      <td>495.744</td>\n",
              "      <td>437641.96875</td>\n",
              "      <td>6470972.5</td>\n",
              "      <td>-470.717773</td>\n",
              "      <td>19.468800</td>\n",
              "      <td>1.613674</td>\n",
              "      <td>1.815813</td>\n",
              "      <td>1.847233</td>\n",
              "      <td>69.721436</td>\n",
              "      <td>-9999.0</td>\n",
              "      <td>39.163223</td>\n",
              "      <td>161.575104</td>\n",
              "      <td>22.163542</td>\n",
              "      <td>-9999.0</td>\n",
              "      <td>75.898796</td>\n",
              "      <td>-9999.0</td>\n",
              "      <td>-0.614364</td>\n",
              "      <td>-9999.0</td>\n",
              "      <td>1.0</td>\n",
              "      <td>6</td>\n",
              "      <td>-1</td>\n",
              "      <td>0</td>\n",
              "    </tr>\n",
              "    <tr>\n",
              "      <th>9</th>\n",
              "      <td>495.896</td>\n",
              "      <td>437641.96875</td>\n",
              "      <td>6470972.5</td>\n",
              "      <td>-470.869782</td>\n",
              "      <td>19.468800</td>\n",
              "      <td>1.634622</td>\n",
              "      <td>1.813916</td>\n",
              "      <td>1.836309</td>\n",
              "      <td>66.677727</td>\n",
              "      <td>-9999.0</td>\n",
              "      <td>37.802933</td>\n",
              "      <td>160.583359</td>\n",
              "      <td>23.659925</td>\n",
              "      <td>-9999.0</td>\n",
              "      <td>68.121262</td>\n",
              "      <td>-9999.0</td>\n",
              "      <td>-0.621813</td>\n",
              "      <td>-9999.0</td>\n",
              "      <td>1.0</td>\n",
              "      <td>6</td>\n",
              "      <td>-1</td>\n",
              "      <td>0</td>\n",
              "    </tr>\n",
              "  </tbody>\n",
              "</table>\n",
              "</div>"
            ],
            "text/plain": [
              "   DEPTH_MD         X_LOC  ...  FORMATION_encoded  WELL_encoded\n",
              "0   494.528  437641.96875  ...                 -1             0\n",
              "1   494.680  437641.96875  ...                 -1             0\n",
              "2   494.832  437641.96875  ...                 -1             0\n",
              "3   494.984  437641.96875  ...                 -1             0\n",
              "4   495.136  437641.96875  ...                 -1             0\n",
              "5   495.288  437641.96875  ...                 -1             0\n",
              "6   495.440  437641.96875  ...                 -1             0\n",
              "7   495.592  437641.96875  ...                 -1             0\n",
              "8   495.744  437641.96875  ...                 -1             0\n",
              "9   495.896  437641.96875  ...                 -1             0\n",
              "\n",
              "[10 rows x 22 columns]"
            ]
          },
          "metadata": {
            "tags": []
          },
          "execution_count": 40
        }
      ]
    },
    {
      "cell_type": "markdown",
      "metadata": {
        "id": "Fl5YqsxDT5qo"
      },
      "source": [
        "### Model Training\n",
        "\n",
        "The choice of algorithm for this tutorial workflow is xgboost. Why? Performance on previously done validation was better, and also at a faster compute speed than catboost. Random forest is also a great algorithm to try. Let's implement our xgboost tree. This will be done in a 10 fold cross validation technique. This is done to get a better performance and a confident result that is not due to randomness. We will be using StratifiedKFold function from sklearn. Let's look at that."
      ]
    },
    {
      "cell_type": "code",
      "metadata": {
        "id": "8jzQoFZ1T5qo"
      },
      "source": [
        "def show_evaluation(pred, true):\n",
        "\n",
        "  '''\n",
        "\n",
        "  function to show model performance and evaluation\n",
        "  args:\n",
        "    pred: predicted value(a list)\n",
        "    true: actual values (a list)\n",
        "\n",
        "  prints the custom metric performance, accuracy and F1 score of predictions\n",
        "\n",
        "  '''\n",
        "\n",
        "  print(f'Default score: {score(true.values, pred)}')\n",
        "  print(f'Accuracy is: {accuracy_score(true, pred)}')\n",
        "  print(f'F1 is: {f1_score(pred, true.values, average=\"weighted\")}')"
      ],
      "execution_count": 41,
      "outputs": []
    },
    {
      "cell_type": "code",
      "metadata": {
        "id": "7n1FCqdWT5qo"
      },
      "source": [
        "split = 10\n",
        "\n",
        "kf = StratifiedKFold(n_splits=split, shuffle=True)"
      ],
      "execution_count": 42,
      "outputs": []
    },
    {
      "cell_type": "code",
      "metadata": {
        "id": "BW4TLHDBT5qp"
      },
      "source": [
        "# initializing the xgboost model\n",
        "\n",
        "model = xgb.XGBClassifier(n_estimators=100, max_depth=10, booster='gbtree',\n",
        "                          objective='softprob', learning_rate=0.1, random_state=0,\n",
        "                          subsample=0.9, colsample_bytree=0.9, tree_method='gpu_hist',\n",
        "                          eval_metric='mlogloss', reg_lambda=1500)"
      ],
      "execution_count": 43,
      "outputs": []
    },
    {
      "cell_type": "code",
      "metadata": {
        "id": "ckiPjZPAT5qp"
      },
      "source": [
        "# initializing the prediction probabilities arrays\n",
        "\n",
        "test_pred = np.zeros((len(test), 12))\n",
        "valid1_pred = np.zeros((len(valid1), 12))\n",
        "valid2_pred = np.zeros((len(valid2), 12))\n",
        "valid_pred = np.zeros((len(valid), 12))"
      ],
      "execution_count": 44,
      "outputs": []
    },
    {
      "cell_type": "code",
      "metadata": {
        "colab": {
          "base_uri": "https://localhost:8080/"
        },
        "id": "wsZROWP5T5qp",
        "outputId": "7109378a-b2bb-44cf-f18f-e69c7320a02c"
      },
      "source": [
        "#implementing the CV Loop\n",
        "\n",
        "i = 1\n",
        "for (train_index, test_index) in kf.split(train, lithology):\n",
        "    X_train,X_test = train.iloc[train_index], train.iloc[test_index]\n",
        "    Y_train,Y_test = lithology.iloc[train_index], lithology.iloc[test_index]\n",
        "    \n",
        "        \n",
        "    model.fit(X_train, Y_train, early_stopping_rounds=100, eval_set=[(X_test, Y_test)], verbose=20)\n",
        "    \n",
        "    prediction1 = model.predict(valid1)\n",
        "    prediction2 = model.predict(valid2)\n",
        "    prediction = model.predict(valid)\n",
        "    \n",
        "    print(show_evaluation(prediction1, valid1_lithology))\n",
        "    print(show_evaluation(prediction2, valid2_lithology))\n",
        "    print(show_evaluation(prediction, valid_lithology))\n",
        " \n",
        "    print(f'----------------------- FOLD {i} ---------------------')\n",
        "    i+=1\n",
        "    \n",
        "    valid1_pred += model.predict_proba(valid1)\n",
        "    valid2_pred += model.predict_proba(valid2)\n",
        "    valid_pred += model.predict_proba(valid)"
      ],
      "execution_count": 46,
      "outputs": [
        {
          "output_type": "stream",
          "text": [
            "[0]\tvalidation_0-mlogloss:2.17457\n",
            "Will train until validation_0-mlogloss hasn't improved in 100 rounds.\n",
            "[20]\tvalidation_0-mlogloss:0.710782\n",
            "[40]\tvalidation_0-mlogloss:0.467518\n",
            "[60]\tvalidation_0-mlogloss:0.385437\n",
            "[80]\tvalidation_0-mlogloss:0.343511\n",
            "[99]\tvalidation_0-mlogloss:0.31839\n",
            "Default score: -0.5653586236496445\n",
            "Accuracy is: 0.7857408937045495\n",
            "F1 is: 0.8122836993319609\n",
            "None\n",
            "Default score: -0.6625329004686311\n",
            "Accuracy is: 0.7506992782531341\n",
            "F1 is: 0.7534207644689714\n",
            "None\n",
            "Default score: -0.6109274406843076\n",
            "Accuracy is: 0.7693085104095438\n",
            "F1 is: 0.7844794455633661\n",
            "None\n",
            "----------------------- FOLD 1 ---------------------\n",
            "[0]\tvalidation_0-mlogloss:2.17483\n",
            "Will train until validation_0-mlogloss hasn't improved in 100 rounds.\n",
            "[20]\tvalidation_0-mlogloss:0.712045\n",
            "[40]\tvalidation_0-mlogloss:0.468513\n",
            "[60]\tvalidation_0-mlogloss:0.387018\n",
            "[80]\tvalidation_0-mlogloss:0.346026\n",
            "[99]\tvalidation_0-mlogloss:0.320446\n",
            "Default score: -0.595705181154139\n",
            "Accuracy is: 0.7748084803135578\n",
            "F1 is: 0.8059924745096361\n",
            "None\n",
            "Default score: -0.6767282490072541\n",
            "Accuracy is: 0.7452884694747847\n",
            "F1 is: 0.7459069775320202\n",
            "None\n",
            "Default score: -0.6337000649386952\n",
            "Accuracy is: 0.7609653932661583\n",
            "F1 is: 0.7769393342291174\n",
            "None\n",
            "----------------------- FOLD 2 ---------------------\n",
            "[0]\tvalidation_0-mlogloss:2.17473\n",
            "Will train until validation_0-mlogloss hasn't improved in 100 rounds.\n",
            "[20]\tvalidation_0-mlogloss:0.710188\n",
            "[40]\tvalidation_0-mlogloss:0.467525\n",
            "[60]\tvalidation_0-mlogloss:0.38526\n",
            "[80]\tvalidation_0-mlogloss:0.343321\n",
            "[99]\tvalidation_0-mlogloss:0.318637\n",
            "Default score: -0.5718381031048054\n",
            "Accuracy is: 0.7840726884019241\n",
            "F1 is: 0.810751047119184\n",
            "None\n",
            "Default score: -0.6635760860593721\n",
            "Accuracy is: 0.7509652332608835\n",
            "F1 is: 0.7557473415483752\n",
            "None\n",
            "Default score: -0.6148576294365815\n",
            "Accuracy is: 0.7685473084846061\n",
            "F1 is: 0.7848563513919223\n",
            "None\n",
            "----------------------- FOLD 3 ---------------------\n",
            "[0]\tvalidation_0-mlogloss:2.17454\n",
            "Will train until validation_0-mlogloss hasn't improved in 100 rounds.\n",
            "[20]\tvalidation_0-mlogloss:0.711419\n",
            "[40]\tvalidation_0-mlogloss:0.468148\n",
            "[60]\tvalidation_0-mlogloss:0.387005\n",
            "[80]\tvalidation_0-mlogloss:0.345206\n",
            "[99]\tvalidation_0-mlogloss:0.320051\n",
            "Default score: -0.5645720972417926\n",
            "Accuracy is: 0.7859919343083427\n",
            "F1 is: 0.8128009602415605\n",
            "None\n",
            "Default score: -0.6655352115259398\n",
            "Accuracy is: 0.7490210104456122\n",
            "F1 is: 0.7504877391808383\n",
            "None\n",
            "Default score: -0.6119176482731038\n",
            "Accuracy is: 0.7686548228807837\n",
            "F1 is: 0.7834191167020582\n",
            "None\n",
            "----------------------- FOLD 4 ---------------------\n",
            "[0]\tvalidation_0-mlogloss:2.17552\n",
            "Will train until validation_0-mlogloss hasn't improved in 100 rounds.\n",
            "[20]\tvalidation_0-mlogloss:0.71506\n",
            "[40]\tvalidation_0-mlogloss:0.472992\n",
            "[60]\tvalidation_0-mlogloss:0.391394\n",
            "[80]\tvalidation_0-mlogloss:0.349036\n",
            "[99]\tvalidation_0-mlogloss:0.324083\n",
            "Default score: -0.5662686458383946\n",
            "Accuracy is: 0.7852793029169298\n",
            "F1 is: 0.8132912380865661\n",
            "None\n",
            "Default score: -0.6646009299254408\n",
            "Accuracy is: 0.7500940013389459\n",
            "F1 is: 0.7518455190971381\n",
            "None\n",
            "Default score: -0.6123804977486486\n",
            "Accuracy is: 0.7687795395803498\n",
            "F1 is: 0.7842302375666507\n",
            "None\n",
            "----------------------- FOLD 5 ---------------------\n",
            "[0]\tvalidation_0-mlogloss:2.17484\n",
            "Will train until validation_0-mlogloss hasn't improved in 100 rounds.\n",
            "[20]\tvalidation_0-mlogloss:0.711964\n",
            "[40]\tvalidation_0-mlogloss:0.469926\n",
            "[60]\tvalidation_0-mlogloss:0.386525\n",
            "[80]\tvalidation_0-mlogloss:0.344919\n",
            "[99]\tvalidation_0-mlogloss:0.319699\n",
            "Default score: -0.5981811703350988\n",
            "Accuracy is: 0.7737314351424452\n",
            "F1 is: 0.8038102801466805\n",
            "None\n",
            "Default score: -0.6580403242816922\n",
            "Accuracy is: 0.7503874689337038\n",
            "F1 is: 0.7532788033484131\n",
            "None\n",
            "Default score: -0.6262514675715078\n",
            "Accuracy is: 0.7627845368494841\n",
            "F1 is: 0.7795519416320515\n",
            "None\n",
            "----------------------- FOLD 6 ---------------------\n",
            "[0]\tvalidation_0-mlogloss:2.17496\n",
            "Will train until validation_0-mlogloss hasn't improved in 100 rounds.\n",
            "[20]\tvalidation_0-mlogloss:0.716651\n",
            "[40]\tvalidation_0-mlogloss:0.474664\n",
            "[60]\tvalidation_0-mlogloss:0.392882\n",
            "[80]\tvalidation_0-mlogloss:0.350287\n",
            "[99]\tvalidation_0-mlogloss:0.325277\n",
            "Default score: -0.5812865426040199\n",
            "Accuracy is: 0.7807119835446933\n",
            "F1 is: 0.8098468155726066\n",
            "None\n",
            "Default score: -0.6712509514769673\n",
            "Accuracy is: 0.7480580699003128\n",
            "F1 is: 0.7495410844469411\n",
            "None\n",
            "Default score: -0.6234743707182392\n",
            "Accuracy is: 0.7653992869645245\n",
            "F1 is: 0.7809808848337627\n",
            "None\n",
            "----------------------- FOLD 7 ---------------------\n",
            "[0]\tvalidation_0-mlogloss:2.17475\n",
            "Will train until validation_0-mlogloss hasn't improved in 100 rounds.\n",
            "[20]\tvalidation_0-mlogloss:0.712825\n",
            "[40]\tvalidation_0-mlogloss:0.471463\n",
            "[60]\tvalidation_0-mlogloss:0.389953\n",
            "[80]\tvalidation_0-mlogloss:0.348128\n",
            "[99]\tvalidation_0-mlogloss:0.323226\n",
            "Default score: -0.5762404240156779\n",
            "Accuracy is: 0.7827850930469851\n",
            "F1 is: 0.8086397171100073\n",
            "None\n",
            "Default score: -0.6677041204684476\n",
            "Accuracy is: 0.7490852064819655\n",
            "F1 is: 0.7511864413783258\n",
            "None\n",
            "Default score: -0.6191313266846431\n",
            "Accuracy is: 0.7669818988762596\n",
            "F1 is: 0.7816285008651059\n",
            "None\n",
            "----------------------- FOLD 8 ---------------------\n",
            "[0]\tvalidation_0-mlogloss:2.17517\n",
            "Will train until validation_0-mlogloss hasn't improved in 100 rounds.\n",
            "[20]\tvalidation_0-mlogloss:0.710753\n",
            "[40]\tvalidation_0-mlogloss:0.466958\n",
            "[60]\tvalidation_0-mlogloss:0.385463\n",
            "[80]\tvalidation_0-mlogloss:0.343724\n",
            "[99]\tvalidation_0-mlogloss:0.319187\n",
            "Default score: -0.5738990654811071\n",
            "Accuracy is: 0.7821129520755389\n",
            "F1 is: 0.8093139708632638\n",
            "None\n",
            "Default score: -0.6701240817674086\n",
            "Accuracy is: 0.7480488990379766\n",
            "F1 is: 0.7495336728627457\n",
            "None\n",
            "Default score: -0.6190227371445036\n",
            "Accuracy is: 0.7661389860102268\n",
            "F1 is: 0.7810712714677845\n",
            "None\n",
            "----------------------- FOLD 9 ---------------------\n",
            "[0]\tvalidation_0-mlogloss:2.1738\n",
            "Will train until validation_0-mlogloss hasn't improved in 100 rounds.\n",
            "[20]\tvalidation_0-mlogloss:0.711105\n",
            "[40]\tvalidation_0-mlogloss:0.467884\n",
            "[60]\tvalidation_0-mlogloss:0.38663\n",
            "[80]\tvalidation_0-mlogloss:0.345329\n",
            "[99]\tvalidation_0-mlogloss:0.320536\n",
            "Default score: -0.5692376058824482\n",
            "Accuracy is: 0.7850525565651167\n",
            "F1 is: 0.8115175317069832\n",
            "None\n",
            "Default score: -0.6695875863207418\n",
            "Accuracy is: 0.7478563109289167\n",
            "F1 is: 0.7502232753416618\n",
            "None\n",
            "Default score: -0.6162956344854577\n",
            "Accuracy is: 0.767609782949937\n",
            "F1 is: 0.7825767296060571\n",
            "None\n",
            "----------------------- FOLD 10 ---------------------\n"
          ],
          "name": "stdout"
        }
      ]
    },
    {
      "cell_type": "code",
      "metadata": {
        "id": "p5wcj66KT5qq"
      },
      "source": [
        "# finding the probabilities average and converting the numpy array to a dataframe\n",
        "\n",
        "valid1_pred = pd.DataFrame(valid1_pred/split)\n",
        "valid2_pred = pd.DataFrame(valid2_pred/split)\n",
        "valid_pred = pd.DataFrame(valid_pred/split)"
      ],
      "execution_count": 47,
      "outputs": []
    },
    {
      "cell_type": "code",
      "metadata": {
        "id": "eUoEgYkIT5qq"
      },
      "source": [
        "# extracting the index position with the highest probability as the lithology classp\n",
        "\n",
        "valid1_pred = valid1_pred.idxmax(axis=1)\n",
        "valid2_pred = valid2_pred.idxmax(axis=1)\n",
        "valid_pred = valid_pred.idxmax(axis=1)"
      ],
      "execution_count": 48,
      "outputs": []
    },
    {
      "cell_type": "markdown",
      "metadata": {
        "id": "543zcfmuT5qq"
      },
      "source": [
        "Evaluating the final predictions from the CV and max probability indexing"
      ]
    },
    {
      "cell_type": "code",
      "metadata": {
        "colab": {
          "base_uri": "https://localhost:8080/"
        },
        "id": "VGFjf9lPT5qr",
        "outputId": "b8262487-21aa-49c5-fbb6-c8a279b2355e"
      },
      "source": [
        "show_evaluation(valid1_pred, valid1_lithology)"
      ],
      "execution_count": 49,
      "outputs": [
        {
          "output_type": "stream",
          "text": [
            "Default score: -0.5692335568404515\n",
            "Accuracy is: 0.7848420063812902\n",
            "F1 is: 0.8117557911089638\n"
          ],
          "name": "stdout"
        }
      ]
    },
    {
      "cell_type": "code",
      "metadata": {
        "colab": {
          "base_uri": "https://localhost:8080/"
        },
        "id": "7Wdw7tQZT5qr",
        "outputId": "7b84f3a4-1c6b-4d9c-a652-6a2e695ccb7c"
      },
      "source": [
        "show_evaluation(valid2_pred, valid2_lithology)"
      ],
      "execution_count": 50,
      "outputs": [
        {
          "output_type": "stream",
          "text": [
            "Default score: -0.6653632578571363\n",
            "Accuracy is: 0.7493786740767234\n",
            "F1 is: 0.7516536044917477\n"
          ],
          "name": "stdout"
        }
      ]
    },
    {
      "cell_type": "code",
      "metadata": {
        "colab": {
          "base_uri": "https://localhost:8080/"
        },
        "id": "kkWrTGXnT5qr",
        "outputId": "648f0fb1-8e76-4f3b-b35d-62f845aec896"
      },
      "source": [
        "show_evaluation(valid_pred, valid_lithology)"
      ],
      "execution_count": 51,
      "outputs": [
        {
          "output_type": "stream",
          "text": [
            "Default score: -0.6143125314479608\n",
            "Accuracy is: 0.7682118635685318\n",
            "F1 is: 0.7834132027585581\n"
          ],
          "name": "stdout"
        }
      ]
    },
    {
      "cell_type": "markdown",
      "metadata": {
        "id": "0a8BQD1MT5qs"
      },
      "source": [
        "### Thanks for listening..."
      ]
    },
    {
      "cell_type": "code",
      "metadata": {
        "id": "wTggB5vAr5NB"
      },
      "source": [
        ""
      ],
      "execution_count": null,
      "outputs": []
    }
  ]
}