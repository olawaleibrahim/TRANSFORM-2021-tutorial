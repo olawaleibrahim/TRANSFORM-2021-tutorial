{
 "cells": [
  {
   "cell_type": "markdown",
   "metadata": {},
   "source": [
    "### DRAFT\n",
    "\n",
    "#### Content in this section is based on general ML project pipeline\n",
    "\n",
    "* The tutorial is on the lithofacies predictions from well log data\n",
    "* It will run through a typical machine learning workflow/pipeline\n",
    "    * Getting data\n",
    "    * Data Cleaning\n",
    "    * Data Visualization and Exploratory Data ANalysis\n",
    "    * Data Preparation\n",
    "    * Model Training and Prediction\n",
    "    * Model Evaluation\n",
    "    * Model Performance Improvement with different techniques\n",
    "        * Data Augmentation\n",
    "        * Cross validation technique\n",
    "        * Model regularization for better training (for slower weight decay)\n",
    "\n",
    "#### Content in this section is focused more on the FORCE competition\n",
    "\n",
    "* It will cover key things to watch out for when working with big subsurface data in the format which we have (the FORCE dataset) e.g.\n",
    "    * When using gradient boosting trees (possibility of model loss not converging while training)\n",
    "    * How K-Fold cross validation could help prevent that\n",
    "    * How selecting a proper cross validation technique helps in making more confident decisions\n",
    "    * Preventing overfitting by;\n",
    "        * Creating different validations sets (give \"whys\" on choice of method for creating them)\n",
    "        * Making proper evaluations on validation sets with different metrics"
   ]
  },
  {
   "cell_type": "code",
   "execution_count": null,
   "metadata": {},
   "outputs": [],
   "source": []
  }
 ],
 "metadata": {
  "kernelspec": {
   "display_name": "Python 3",
   "language": "python",
   "name": "python3"
  },
  "language_info": {
   "codemirror_mode": {
    "name": "ipython",
    "version": 3
   },
   "file_extension": ".py",
   "mimetype": "text/x-python",
   "name": "python",
   "nbconvert_exporter": "python",
   "pygments_lexer": "ipython3",
   "version": "3.8.5"
  }
 },
 "nbformat": 4,
 "nbformat_minor": 4
}
