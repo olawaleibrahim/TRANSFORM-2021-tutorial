{
 "cells": [
  {
   "cell_type": "code",
   "execution_count": 9,
   "metadata": {},
   "outputs": [],
   "source": [
    "# importing required libraries and packages \n",
    "\n",
    "import numpy as np\n",
    "import pandas as pd\n",
    "import xgboost as xgb\n",
    "import petroeval as pet\n",
    "import sklearn.metrics as sklm\n",
    "import matplotlib.pyplot as plt\n",
    "from sklearn.model_selection import StratifiedKFold, train_test_split"
   ]
  },
  {
   "cell_type": "markdown",
   "metadata": {},
   "source": [
    "### Getting Data\n",
    "\n",
    "The train data set comprise well logs from a total of 98 wells from the North Sea, while the open test data is made up of 10 wells, Only the gamma ray (GR) log is present in all the wells."
   ]
  },
  {
   "cell_type": "code",
   "execution_count": 106,
   "metadata": {},
   "outputs": [],
   "source": [
    "traindata = pd.read_csv('./data/train.csv', sep=';')\n",
    "testdata = pd.read_csv('./data/leaderboard_test_features.csv.txt', sep=';')"
   ]
  },
  {
   "cell_type": "markdown",
   "metadata": {},
   "source": [
    "### Data Exploration and Visualization\n",
    "\n",
    "Here, the data is investigated to understand it better (shape and form). Since the data is a combination of 98 different wells, it will be time intensive to make visualizations of each of the wells, so a more combined approach into looking at the wells is taken. Both train and test data are explored simultaneously.\n",
    "\n",
    "- Basic information check on wells and data\n",
    "- Visualizing the percentage of each logs present in all wells\n",
    "- Visualizing the percentage OF missing values of each logs present in all wells\n",
    "- Spatial distribution of wells according to their coordinates\n",
    "- Visualizing some log plots"
   ]
  },
  {
   "cell_type": "code",
   "execution_count": 107,
   "metadata": {},
   "outputs": [
    {
     "data": {
      "text/html": [
       "<div>\n",
       "<style scoped>\n",
       "    .dataframe tbody tr th:only-of-type {\n",
       "        vertical-align: middle;\n",
       "    }\n",
       "\n",
       "    .dataframe tbody tr th {\n",
       "        vertical-align: top;\n",
       "    }\n",
       "\n",
       "    .dataframe thead th {\n",
       "        text-align: right;\n",
       "    }\n",
       "</style>\n",
       "<table border=\"1\" class=\"dataframe\">\n",
       "  <thead>\n",
       "    <tr style=\"text-align: right;\">\n",
       "      <th></th>\n",
       "      <th>WELL</th>\n",
       "      <th>DEPTH_MD</th>\n",
       "      <th>X_LOC</th>\n",
       "      <th>Y_LOC</th>\n",
       "      <th>Z_LOC</th>\n",
       "      <th>GROUP</th>\n",
       "      <th>FORMATION</th>\n",
       "      <th>CALI</th>\n",
       "      <th>RSHA</th>\n",
       "      <th>RMED</th>\n",
       "      <th>...</th>\n",
       "      <th>ROP</th>\n",
       "      <th>DTS</th>\n",
       "      <th>DCAL</th>\n",
       "      <th>DRHO</th>\n",
       "      <th>MUDWEIGHT</th>\n",
       "      <th>RMIC</th>\n",
       "      <th>ROPA</th>\n",
       "      <th>RXO</th>\n",
       "      <th>FORCE_2020_LITHOFACIES_LITHOLOGY</th>\n",
       "      <th>FORCE_2020_LITHOFACIES_CONFIDENCE</th>\n",
       "    </tr>\n",
       "  </thead>\n",
       "  <tbody>\n",
       "    <tr>\n",
       "      <th>0</th>\n",
       "      <td>15/9-13</td>\n",
       "      <td>494.528</td>\n",
       "      <td>437641.96875</td>\n",
       "      <td>6470972.5</td>\n",
       "      <td>-469.501831</td>\n",
       "      <td>NORDLAND GP.</td>\n",
       "      <td>NaN</td>\n",
       "      <td>19.480835</td>\n",
       "      <td>NaN</td>\n",
       "      <td>1.611410</td>\n",
       "      <td>...</td>\n",
       "      <td>34.636410</td>\n",
       "      <td>NaN</td>\n",
       "      <td>NaN</td>\n",
       "      <td>-0.574928</td>\n",
       "      <td>NaN</td>\n",
       "      <td>NaN</td>\n",
       "      <td>NaN</td>\n",
       "      <td>NaN</td>\n",
       "      <td>65000</td>\n",
       "      <td>1.0</td>\n",
       "    </tr>\n",
       "    <tr>\n",
       "      <th>1</th>\n",
       "      <td>15/9-13</td>\n",
       "      <td>494.680</td>\n",
       "      <td>437641.96875</td>\n",
       "      <td>6470972.5</td>\n",
       "      <td>-469.653809</td>\n",
       "      <td>NORDLAND GP.</td>\n",
       "      <td>NaN</td>\n",
       "      <td>19.468800</td>\n",
       "      <td>NaN</td>\n",
       "      <td>1.618070</td>\n",
       "      <td>...</td>\n",
       "      <td>34.636410</td>\n",
       "      <td>NaN</td>\n",
       "      <td>NaN</td>\n",
       "      <td>-0.570188</td>\n",
       "      <td>NaN</td>\n",
       "      <td>NaN</td>\n",
       "      <td>NaN</td>\n",
       "      <td>NaN</td>\n",
       "      <td>65000</td>\n",
       "      <td>1.0</td>\n",
       "    </tr>\n",
       "    <tr>\n",
       "      <th>2</th>\n",
       "      <td>15/9-13</td>\n",
       "      <td>494.832</td>\n",
       "      <td>437641.96875</td>\n",
       "      <td>6470972.5</td>\n",
       "      <td>-469.805786</td>\n",
       "      <td>NORDLAND GP.</td>\n",
       "      <td>NaN</td>\n",
       "      <td>19.468800</td>\n",
       "      <td>NaN</td>\n",
       "      <td>1.626459</td>\n",
       "      <td>...</td>\n",
       "      <td>34.779556</td>\n",
       "      <td>NaN</td>\n",
       "      <td>NaN</td>\n",
       "      <td>-0.574245</td>\n",
       "      <td>NaN</td>\n",
       "      <td>NaN</td>\n",
       "      <td>NaN</td>\n",
       "      <td>NaN</td>\n",
       "      <td>65000</td>\n",
       "      <td>1.0</td>\n",
       "    </tr>\n",
       "    <tr>\n",
       "      <th>3</th>\n",
       "      <td>15/9-13</td>\n",
       "      <td>494.984</td>\n",
       "      <td>437641.96875</td>\n",
       "      <td>6470972.5</td>\n",
       "      <td>-469.957794</td>\n",
       "      <td>NORDLAND GP.</td>\n",
       "      <td>NaN</td>\n",
       "      <td>19.459282</td>\n",
       "      <td>NaN</td>\n",
       "      <td>1.621594</td>\n",
       "      <td>...</td>\n",
       "      <td>39.965164</td>\n",
       "      <td>NaN</td>\n",
       "      <td>NaN</td>\n",
       "      <td>-0.586315</td>\n",
       "      <td>NaN</td>\n",
       "      <td>NaN</td>\n",
       "      <td>NaN</td>\n",
       "      <td>NaN</td>\n",
       "      <td>65000</td>\n",
       "      <td>1.0</td>\n",
       "    </tr>\n",
       "    <tr>\n",
       "      <th>4</th>\n",
       "      <td>15/9-13</td>\n",
       "      <td>495.136</td>\n",
       "      <td>437641.96875</td>\n",
       "      <td>6470972.5</td>\n",
       "      <td>-470.109772</td>\n",
       "      <td>NORDLAND GP.</td>\n",
       "      <td>NaN</td>\n",
       "      <td>19.453100</td>\n",
       "      <td>NaN</td>\n",
       "      <td>1.602679</td>\n",
       "      <td>...</td>\n",
       "      <td>57.483765</td>\n",
       "      <td>NaN</td>\n",
       "      <td>NaN</td>\n",
       "      <td>-0.597914</td>\n",
       "      <td>NaN</td>\n",
       "      <td>NaN</td>\n",
       "      <td>NaN</td>\n",
       "      <td>NaN</td>\n",
       "      <td>65000</td>\n",
       "      <td>1.0</td>\n",
       "    </tr>\n",
       "  </tbody>\n",
       "</table>\n",
       "<p>5 rows × 29 columns</p>\n",
       "</div>"
      ],
      "text/plain": [
       "      WELL  DEPTH_MD         X_LOC      Y_LOC       Z_LOC         GROUP  \\\n",
       "0  15/9-13   494.528  437641.96875  6470972.5 -469.501831  NORDLAND GP.   \n",
       "1  15/9-13   494.680  437641.96875  6470972.5 -469.653809  NORDLAND GP.   \n",
       "2  15/9-13   494.832  437641.96875  6470972.5 -469.805786  NORDLAND GP.   \n",
       "3  15/9-13   494.984  437641.96875  6470972.5 -469.957794  NORDLAND GP.   \n",
       "4  15/9-13   495.136  437641.96875  6470972.5 -470.109772  NORDLAND GP.   \n",
       "\n",
       "  FORMATION       CALI  RSHA      RMED  ...        ROP  DTS  DCAL      DRHO  \\\n",
       "0       NaN  19.480835   NaN  1.611410  ...  34.636410  NaN   NaN -0.574928   \n",
       "1       NaN  19.468800   NaN  1.618070  ...  34.636410  NaN   NaN -0.570188   \n",
       "2       NaN  19.468800   NaN  1.626459  ...  34.779556  NaN   NaN -0.574245   \n",
       "3       NaN  19.459282   NaN  1.621594  ...  39.965164  NaN   NaN -0.586315   \n",
       "4       NaN  19.453100   NaN  1.602679  ...  57.483765  NaN   NaN -0.597914   \n",
       "\n",
       "   MUDWEIGHT  RMIC  ROPA  RXO  FORCE_2020_LITHOFACIES_LITHOLOGY  \\\n",
       "0        NaN   NaN   NaN  NaN                             65000   \n",
       "1        NaN   NaN   NaN  NaN                             65000   \n",
       "2        NaN   NaN   NaN  NaN                             65000   \n",
       "3        NaN   NaN   NaN  NaN                             65000   \n",
       "4        NaN   NaN   NaN  NaN                             65000   \n",
       "\n",
       "   FORCE_2020_LITHOFACIES_CONFIDENCE  \n",
       "0                                1.0  \n",
       "1                                1.0  \n",
       "2                                1.0  \n",
       "3                                1.0  \n",
       "4                                1.0  \n",
       "\n",
       "[5 rows x 29 columns]"
      ]
     },
     "execution_count": 107,
     "metadata": {},
     "output_type": "execute_result"
    }
   ],
   "source": [
    "traindata.head()"
   ]
  },
  {
   "cell_type": "code",
   "execution_count": 108,
   "metadata": {},
   "outputs": [
    {
     "data": {
      "text/plain": [
       "((1170511, 29), (136786, 27))"
      ]
     },
     "execution_count": 108,
     "metadata": {},
     "output_type": "execute_result"
    }
   ],
   "source": [
    "traindata.shape, testdata.shape"
   ]
  },
  {
   "cell_type": "markdown",
   "metadata": {},
   "source": [
    "With over 1million training data points, safe to call this \"big data\". Also, could be seen that the test data set has two logs lesser than the train data. Let's investigate that."
   ]
  },
  {
   "cell_type": "code",
   "execution_count": 111,
   "metadata": {},
   "outputs": [
    {
     "name": "stdout",
     "output_type": "stream",
     "text": [
      "2 logs not in test data:\n",
      "['FORCE_2020_LITHOFACIES_LITHOLOGY', 'FORCE_2020_LITHOFACIES_CONFIDENCE']\n"
     ]
    }
   ],
   "source": [
    "number = 0\n",
    "logs = []\n",
    "for log in traindata.columns:\n",
    "    if log not in testdata.columns:\n",
    "        logs.append(log)\n",
    "        number += 1\n",
    "\n",
    "print(f'{number} logs not in test data:')\n",
    "print(logs)"
   ]
  },
  {
   "cell_type": "code",
   "execution_count": 112,
   "metadata": {},
   "outputs": [
    {
     "data": {
      "text/plain": [
       "Index(['WELL', 'DEPTH_MD', 'X_LOC', 'Y_LOC', 'Z_LOC', 'GROUP', 'FORMATION',\n",
       "       'CALI', 'RSHA', 'RMED', 'RDEP', 'RHOB', 'GR', 'SGR', 'NPHI', 'PEF',\n",
       "       'DTC', 'SP', 'BS', 'ROP', 'DTS', 'DCAL', 'DRHO', 'MUDWEIGHT', 'RMIC',\n",
       "       'ROPA', 'RXO', 'FORCE_2020_LITHOFACIES_LITHOLOGY',\n",
       "       'FORCE_2020_LITHOFACIES_CONFIDENCE'],\n",
       "      dtype='object')"
      ]
     },
     "execution_count": 112,
     "metadata": {},
     "output_type": "execute_result"
    }
   ],
   "source": [
    "traindata.columns"
   ]
  },
  {
   "cell_type": "code",
   "execution_count": 113,
   "metadata": {},
   "outputs": [
    {
     "data": {
      "text/plain": [
       "WELL                                  object\n",
       "DEPTH_MD                             float64\n",
       "X_LOC                                float64\n",
       "Y_LOC                                float64\n",
       "Z_LOC                                float64\n",
       "GROUP                                 object\n",
       "FORMATION                             object\n",
       "CALI                                 float64\n",
       "RSHA                                 float64\n",
       "RMED                                 float64\n",
       "RDEP                                 float64\n",
       "RHOB                                 float64\n",
       "GR                                   float64\n",
       "SGR                                  float64\n",
       "NPHI                                 float64\n",
       "PEF                                  float64\n",
       "DTC                                  float64\n",
       "SP                                   float64\n",
       "BS                                   float64\n",
       "ROP                                  float64\n",
       "DTS                                  float64\n",
       "DCAL                                 float64\n",
       "DRHO                                 float64\n",
       "MUDWEIGHT                            float64\n",
       "RMIC                                 float64\n",
       "ROPA                                 float64\n",
       "RXO                                  float64\n",
       "FORCE_2020_LITHOFACIES_LITHOLOGY       int64\n",
       "FORCE_2020_LITHOFACIES_CONFIDENCE    float64\n",
       "dtype: object"
      ]
     },
     "execution_count": 113,
     "metadata": {},
     "output_type": "execute_result"
    }
   ],
   "source": [
    "traindata.dtypes"
   ]
  },
  {
   "cell_type": "markdown",
   "metadata": {},
   "source": [
    "From above data types, there are three categorical logs denoted as 'object'. Getting more info on these logs will provide better insight to choose a better encoding technique."
   ]
  },
  {
   "cell_type": "code",
   "execution_count": 114,
   "metadata": {},
   "outputs": [
    {
     "name": "stdout",
     "output_type": "stream",
     "text": [
      "Number of wells in data: 98\n"
     ]
    }
   ],
   "source": [
    "print(f'Number of wells in data: {len(np.unique(traindata.WELL))}')"
   ]
  },
  {
   "cell_type": "code",
   "execution_count": 115,
   "metadata": {},
   "outputs": [
    {
     "name": "stdout",
     "output_type": "stream",
     "text": [
      "Unique formation count: 69\n",
      "Unique group count: 14\n"
     ]
    }
   ],
   "source": [
    "# checking more info on the categorical logs (FORMATION AND GROUP)\n",
    "\n",
    "print(f'Unique formation count: {len(dict(traindata.FORMATION.value_counts()))}')\n",
    "print(f'Unique group count: {len(dict(traindata.GROUP.value_counts()))}')"
   ]
  },
  {
   "cell_type": "code",
   "execution_count": 117,
   "metadata": {},
   "outputs": [
    {
     "data": {
      "text/plain": [
       "HORDALAND GP.       293155\n",
       "SHETLAND GP.        234028\n",
       "VIKING GP.          131999\n",
       "ROGALAND GP.        131944\n",
       "DUNLIN GP.          119085\n",
       "NORDLAND GP.        111490\n",
       "CROMER KNOLL GP.     52320\n",
       "BAAT GP.             35823\n",
       "VESTLAND GP.         26116\n",
       "HEGRE GP.            13913\n",
       "ZECHSTEIN GP.        12238\n",
       "BOKNFJORD GP.         3125\n",
       "ROTLIEGENDES GP.      2792\n",
       "TYNE GP.              1205\n",
       "Name: GROUP, dtype: int64"
      ]
     },
     "execution_count": 117,
     "metadata": {},
     "output_type": "execute_result"
    }
   ],
   "source": [
    "traindata.GROUP.value_counts()"
   ]
  },
  {
   "cell_type": "code",
   "execution_count": 116,
   "metadata": {},
   "outputs": [
    {
     "data": {
      "text/plain": [
       "Utsira Fm.               172636\n",
       "Kyrre Fm.                 94328\n",
       "Lista Fm.                 71080\n",
       "Heather Fm.               65041\n",
       "Skade Fm.                 45983\n",
       "                          ...  \n",
       "Broom Fm.                   235\n",
       "Intra Balder Fm. Sst.       177\n",
       "Farsund Fm.                 171\n",
       "Flekkefjord Fm.             118\n",
       "Egersund Fm.                105\n",
       "Name: FORMATION, Length: 69, dtype: int64"
      ]
     },
     "execution_count": 116,
     "metadata": {},
     "output_type": "execute_result"
    }
   ],
   "source": [
    "traindata.FORMATION.value_counts()"
   ]
  },
  {
   "cell_type": "markdown",
   "metadata": {},
   "source": [
    "#### Checking for the percentage of each logs present in all wells\n",
    "\n",
    "For train data"
   ]
  },
  {
   "cell_type": "code",
   "execution_count": 118,
   "metadata": {},
   "outputs": [
    {
     "data": {
      "text/plain": [
       "Text(0, 0.5, 'Well presence (\\\\%)')"
      ]
     },
     "execution_count": 118,
     "metadata": {},
     "output_type": "execute_result"
    },
    {
     "data": {
      "image/png": "[encoded data removed]",
      "text/plain": [
       "<Figure size 1008x504 with 1 Axes>"
      ]
     },
     "metadata": {
      "needs_background": "light"
     },
     "output_type": "display_data"
    }
   ],
   "source": [
    "# this code is extracted from Matteo Niccoli github EDA repo for the FORCE competition: \n",
    "# https://github.com/mycarta/Force-2020-Machine-Learning-competition_predict-lithology-EDA/blob/master/Interactive_data_inspection_and_visualization_by_well.ipynb\n",
    "\n",
    "occurences = np.zeros(25)\n",
    "for well in traindata['WELL'].unique():\n",
    "    occurences += traindata[traindata['WELL'] == well].isna().all().astype(int).values[2:-2]\n",
    "fig, ax = plt.subplots(1, 1, figsize=(14, 7))\n",
    "ax.bar(x=np.arange(occurences.shape[0]), height=(traindata.WELL.unique().shape[0]-occurences)/traindata.WELL.unique().shape[0]*100.0)\n",
    "ax.set_xticklabels(traindata.columns[2:-2], rotation=45)\n",
    "ax.set_xticks(np.arange(occurences.shape[0]))\n",
    "ax.set_ylabel('Well presence (\\%)')"
   ]
  },
  {
   "cell_type": "code",
   "execution_count": 121,
   "metadata": {},
   "outputs": [
    {
     "data": {
      "text/plain": [
       "Text(0, 0.5, 'Well presence (\\\\%)')"
      ]
     },
     "execution_count": 121,
     "metadata": {},
     "output_type": "execute_result"
    },
    {
     "data": {
      "image/png": "[encoded data removed]",
      "text/plain": [
       "<Figure size 1008x504 with 1 Axes>"
      ]
     },
     "metadata": {
      "needs_background": "light"
     },
     "output_type": "display_data"
    }
   ],
   "source": [
    "# this code is extracted from Matteo Niccoli github EDA repo for the FORCE competition: \n",
    "# https://github.com/mycarta/Force-2020-Machine-Learning-competition_predict-lithology-EDA/blob/master/Interactive_data_inspection_and_visualization_by_well.ipynb\n",
    "\n",
    "occurences = np.zeros(23)\n",
    "for well in testdata['WELL'].unique():\n",
    "    occurences += testdata[testdata['WELL'] == well].isna().all().astype(int).values[2:-2]\n",
    "fig, ax = plt.subplots(1, 1, figsize=(14, 7))\n",
    "ax.bar(x=np.arange(occurences.shape[0]), height=(testdata.WELL.unique().shape[0]-occurences)/testdata.WELL.unique().shape[0]*100.0)\n",
    "ax.set_xticklabels(testdata.columns[2:-2], rotation=45)\n",
    "ax.set_xticks(np.arange(occurences.shape[0]))\n",
    "ax.set_ylabel('Well presence (\\%)')"
   ]
  },
  {
   "cell_type": "markdown",
   "metadata": {},
   "source": [
    "Logs are presently different in both train and test data, as we can see, the SGR log is absent in all test logs"
   ]
  },
  {
   "cell_type": "markdown",
   "metadata": {},
   "source": [
    "While figure above shows the log presence based on appearance on all wells, the below shows the percentage of logs based on missing values/actual data present"
   ]
  },
  {
   "cell_type": "code",
   "execution_count": 132,
   "metadata": {},
   "outputs": [],
   "source": [
    "train_well_items = dict(100 - (traindata.isna().sum()/traindata.shape[0]) * 100)\n",
    "test_well_items = dict(100 - (testdata.isna().sum()/testdata.shape[0]) * 100)"
   ]
  },
  {
   "cell_type": "code",
   "execution_count": 133,
   "metadata": {},
   "outputs": [],
   "source": [
    "train_well_items = {log:value for log, value in train_well_items.items() if value != 100.0}\n",
    "test_well_items = {log:value for log, value in test_well_items.items() if value != 100.0}"
   ]
  },
  {
   "cell_type": "code",
   "execution_count": 134,
   "metadata": {},
   "outputs": [
    {
     "data": {
      "text/plain": [
       "{'X_LOC': 99.07946187605242,\n",
       " 'Y_LOC': 99.07946187605242,\n",
       " 'Z_LOC': 99.07946187605242,\n",
       " 'GROUP': 99.89081691671416,\n",
       " 'FORMATION': 88.29622276082839,\n",
       " 'CALI': 92.49242424889643,\n",
       " 'RSHA': 53.878177992346934,\n",
       " 'RMED': 96.66871990096632,\n",
       " 'RDEP': 99.05895801064663,\n",
       " 'RHOB': 86.22234220780497,\n",
       " 'SGR': 5.925019072866462,\n",
       " 'NPHI': 65.3910129849271,\n",
       " 'PEF': 57.38450984228256,\n",
       " 'DTC': 93.09164971538073,\n",
       " 'SP': 73.83501735566773,\n",
       " 'BS': 58.32128019300972,\n",
       " 'ROP': 45.712599027262456,\n",
       " 'DTS': 14.91767270875711,\n",
       " 'DCAL': 25.530131711705394,\n",
       " 'DRHO': 84.3953623673763,\n",
       " 'MUDWEIGHT': 27.0096564662784,\n",
       " 'RMIC': 15.049837207851951,\n",
       " 'ROPA': 16.430857975704626,\n",
       " 'RXO': 27.972996409260574,\n",
       " 'FORCE_2020_LITHOFACIES_CONFIDENCE': 99.98470753371818}"
      ]
     },
     "execution_count": 134,
     "metadata": {},
     "output_type": "execute_result"
    }
   ],
   "source": [
    "train_well_items"
   ]
  },
  {
   "cell_type": "code",
   "execution_count": 136,
   "metadata": {},
   "outputs": [
    {
     "data": {
      "text/plain": [
       "Text(0, 0.5, 'Data presence (\\\\%)')"
      ]
     },
     "execution_count": 136,
     "metadata": {},
     "output_type": "execute_result"
    },
    {
     "data": {
      "image/png": "[encoded data removed]",
      "text/plain": [
       "<Figure size 1008x504 with 1 Axes>"
      ]
     },
     "metadata": {
      "needs_background": "light"
     },
     "output_type": "display_data"
    }
   ],
   "source": [
    "occurences = np.zeros(len(train_well_items))\n",
    "fig, ax = plt.subplots(1, 1, figsize=(14, 7))\n",
    "ax.bar(x=np.arange(occurences.shape[0]), height=train_well_items.values())\n",
    "ax.set_xticklabels(train_well_items.keys(), rotation=45)\n",
    "ax.set_xticks(np.arange(occurences.shape[0]))\n",
    "ax.set_ylabel('Data presence (\\%)')"
   ]
  },
  {
   "cell_type": "code",
   "execution_count": 135,
   "metadata": {},
   "outputs": [
    {
     "data": {
      "text/plain": [
       "Text(0, 0.5, 'Data presence (\\\\%)')"
      ]
     },
     "execution_count": 135,
     "metadata": {},
     "output_type": "execute_result"
    },
    {
     "data": {
      "image/png": "[encoded data removed]",
      "text/plain": [
       "<Figure size 1008x504 with 1 Axes>"
      ]
     },
     "metadata": {
      "needs_background": "light"
     },
     "output_type": "display_data"
    }
   ],
   "source": [
    "occurences = np.zeros(len(test_well_items))\n",
    "fig, ax = plt.subplots(1, 1, figsize=(14, 7))\n",
    "ax.bar(x=np.arange(occurences.shape[0]), height=test_well_items.values())\n",
    "ax.set_xticklabels(test_well_items.keys(), rotation=45)\n",
    "ax.set_xticks(np.arange(occurences.shape[0]))\n",
    "ax.set_ylabel('Data presence (\\%)')"
   ]
  },
  {
   "cell_type": "code",
   "execution_count": 140,
   "metadata": {},
   "outputs": [
    {
     "data": {
      "image/png": "[encoded data removed]",
      "text/plain": [
       "<Figure size 864x576 with 1 Axes>"
      ]
     },
     "metadata": {
      "needs_background": "light"
     },
     "output_type": "display_data"
    }
   ],
   "source": [
    "# spatial distribution of both train and test wells\n",
    "\n",
    "fig = plt.figure(figsize=(12,8))\n",
    "plt.scatter(traindata.X_LOC, traindata.Y_LOC, c='g')\n",
    "plt.scatter(testdata.X_LOC, testdata.Y_LOC, c='r')\n",
    "plt.show()"
   ]
  },
  {
   "cell_type": "markdown",
   "metadata": {},
   "source": [
    "From the plot, we can see that the test wells are evenly distributed to cover the train wells spread. This makes it easier while preparing the data sets as we get to apply almost same techniques to both data sets.\n",
    "\n",
    "While it might be impossible to view all train and test logs, let's take a look at a test well in close proximity to the train logs and compare log signatures"
   ]
  },
  {
   "cell_type": "code",
   "execution_count": 147,
   "metadata": {},
   "outputs": [
    {
     "data": {
      "text/html": [
       "<div>\n",
       "<style scoped>\n",
       "    .dataframe tbody tr th:only-of-type {\n",
       "        vertical-align: middle;\n",
       "    }\n",
       "\n",
       "    .dataframe tbody tr th {\n",
       "        vertical-align: top;\n",
       "    }\n",
       "\n",
       "    .dataframe thead th {\n",
       "        text-align: right;\n",
       "    }\n",
       "</style>\n",
       "<table border=\"1\" class=\"dataframe\">\n",
       "  <thead>\n",
       "    <tr style=\"text-align: right;\">\n",
       "      <th></th>\n",
       "      <th>WELL</th>\n",
       "      <th>DEPTH_MD</th>\n",
       "      <th>X_LOC</th>\n",
       "      <th>Y_LOC</th>\n",
       "      <th>Z_LOC</th>\n",
       "      <th>GROUP</th>\n",
       "      <th>FORMATION</th>\n",
       "      <th>CALI</th>\n",
       "      <th>RSHA</th>\n",
       "      <th>RMED</th>\n",
       "      <th>...</th>\n",
       "      <th>SP</th>\n",
       "      <th>BS</th>\n",
       "      <th>ROP</th>\n",
       "      <th>DTS</th>\n",
       "      <th>DCAL</th>\n",
       "      <th>DRHO</th>\n",
       "      <th>MUDWEIGHT</th>\n",
       "      <th>RMIC</th>\n",
       "      <th>ROPA</th>\n",
       "      <th>RXO</th>\n",
       "    </tr>\n",
       "  </thead>\n",
       "  <tbody>\n",
       "    <tr>\n",
       "      <th>0</th>\n",
       "      <td>15/9-14</td>\n",
       "      <td>480.628001</td>\n",
       "      <td>423244.50000</td>\n",
       "      <td>6461862.5</td>\n",
       "      <td>-455.624420</td>\n",
       "      <td>NORDLAND GP.</td>\n",
       "      <td>NaN</td>\n",
       "      <td>19.203100</td>\n",
       "      <td>NaN</td>\n",
       "      <td>1.613886</td>\n",
       "      <td>...</td>\n",
       "      <td>35.525719</td>\n",
       "      <td>NaN</td>\n",
       "      <td>96.461990</td>\n",
       "      <td>NaN</td>\n",
       "      <td>NaN</td>\n",
       "      <td>-0.538873</td>\n",
       "      <td>0.130611</td>\n",
       "      <td>NaN</td>\n",
       "      <td>NaN</td>\n",
       "      <td>NaN</td>\n",
       "    </tr>\n",
       "    <tr>\n",
       "      <th>1</th>\n",
       "      <td>15/9-14</td>\n",
       "      <td>480.780001</td>\n",
       "      <td>423244.50000</td>\n",
       "      <td>6461862.5</td>\n",
       "      <td>-455.776428</td>\n",
       "      <td>NORDLAND GP.</td>\n",
       "      <td>NaN</td>\n",
       "      <td>19.203100</td>\n",
       "      <td>NaN</td>\n",
       "      <td>1.574376</td>\n",
       "      <td>...</td>\n",
       "      <td>36.158520</td>\n",
       "      <td>NaN</td>\n",
       "      <td>96.454399</td>\n",
       "      <td>NaN</td>\n",
       "      <td>NaN</td>\n",
       "      <td>-0.539232</td>\n",
       "      <td>0.130611</td>\n",
       "      <td>NaN</td>\n",
       "      <td>NaN</td>\n",
       "      <td>NaN</td>\n",
       "    </tr>\n",
       "    <tr>\n",
       "      <th>2</th>\n",
       "      <td>15/9-14</td>\n",
       "      <td>480.932001</td>\n",
       "      <td>423244.50000</td>\n",
       "      <td>6461862.5</td>\n",
       "      <td>-455.928436</td>\n",
       "      <td>NORDLAND GP.</td>\n",
       "      <td>NaN</td>\n",
       "      <td>19.203100</td>\n",
       "      <td>NaN</td>\n",
       "      <td>1.436627</td>\n",
       "      <td>...</td>\n",
       "      <td>36.873703</td>\n",
       "      <td>NaN</td>\n",
       "      <td>96.446686</td>\n",
       "      <td>NaN</td>\n",
       "      <td>NaN</td>\n",
       "      <td>-0.540830</td>\n",
       "      <td>0.130611</td>\n",
       "      <td>NaN</td>\n",
       "      <td>NaN</td>\n",
       "      <td>NaN</td>\n",
       "    </tr>\n",
       "    <tr>\n",
       "      <th>3</th>\n",
       "      <td>15/9-14</td>\n",
       "      <td>481.084001</td>\n",
       "      <td>423244.50000</td>\n",
       "      <td>6461862.5</td>\n",
       "      <td>-456.080444</td>\n",
       "      <td>NORDLAND GP.</td>\n",
       "      <td>NaN</td>\n",
       "      <td>19.203100</td>\n",
       "      <td>NaN</td>\n",
       "      <td>1.276094</td>\n",
       "      <td>...</td>\n",
       "      <td>37.304054</td>\n",
       "      <td>NaN</td>\n",
       "      <td>161.170166</td>\n",
       "      <td>NaN</td>\n",
       "      <td>NaN</td>\n",
       "      <td>-0.543943</td>\n",
       "      <td>0.130611</td>\n",
       "      <td>NaN</td>\n",
       "      <td>NaN</td>\n",
       "      <td>NaN</td>\n",
       "    </tr>\n",
       "    <tr>\n",
       "      <th>4</th>\n",
       "      <td>15/9-14</td>\n",
       "      <td>481.236001</td>\n",
       "      <td>423244.53125</td>\n",
       "      <td>6461862.5</td>\n",
       "      <td>-456.232422</td>\n",
       "      <td>NORDLAND GP.</td>\n",
       "      <td>NaN</td>\n",
       "      <td>19.203100</td>\n",
       "      <td>NaN</td>\n",
       "      <td>1.204704</td>\n",
       "      <td>...</td>\n",
       "      <td>37.864922</td>\n",
       "      <td>NaN</td>\n",
       "      <td>172.489120</td>\n",
       "      <td>NaN</td>\n",
       "      <td>NaN</td>\n",
       "      <td>-0.542104</td>\n",
       "      <td>0.130611</td>\n",
       "      <td>NaN</td>\n",
       "      <td>NaN</td>\n",
       "      <td>NaN</td>\n",
       "    </tr>\n",
       "    <tr>\n",
       "      <th>...</th>\n",
       "      <td>...</td>\n",
       "      <td>...</td>\n",
       "      <td>...</td>\n",
       "      <td>...</td>\n",
       "      <td>...</td>\n",
       "      <td>...</td>\n",
       "      <td>...</td>\n",
       "      <td>...</td>\n",
       "      <td>...</td>\n",
       "      <td>...</td>\n",
       "      <td>...</td>\n",
       "      <td>...</td>\n",
       "      <td>...</td>\n",
       "      <td>...</td>\n",
       "      <td>...</td>\n",
       "      <td>...</td>\n",
       "      <td>...</td>\n",
       "      <td>...</td>\n",
       "      <td>...</td>\n",
       "      <td>...</td>\n",
       "      <td>...</td>\n",
       "    </tr>\n",
       "    <tr>\n",
       "      <th>20276</th>\n",
       "      <td>15/9-14</td>\n",
       "      <td>3563.948001</td>\n",
       "      <td>423282.50000</td>\n",
       "      <td>6461833.0</td>\n",
       "      <td>-3537.343262</td>\n",
       "      <td>VESTLAND GP.</td>\n",
       "      <td>Smith Bank Fm.</td>\n",
       "      <td>8.712281</td>\n",
       "      <td>3.1348</td>\n",
       "      <td>2.065150</td>\n",
       "      <td>...</td>\n",
       "      <td>50.611870</td>\n",
       "      <td>NaN</td>\n",
       "      <td>NaN</td>\n",
       "      <td>NaN</td>\n",
       "      <td>NaN</td>\n",
       "      <td>0.031030</td>\n",
       "      <td>NaN</td>\n",
       "      <td>NaN</td>\n",
       "      <td>NaN</td>\n",
       "      <td>3.135</td>\n",
       "    </tr>\n",
       "    <tr>\n",
       "      <th>20277</th>\n",
       "      <td>15/9-14</td>\n",
       "      <td>3564.100001</td>\n",
       "      <td>423282.53125</td>\n",
       "      <td>6461833.0</td>\n",
       "      <td>-3537.494873</td>\n",
       "      <td>VESTLAND GP.</td>\n",
       "      <td>Smith Bank Fm.</td>\n",
       "      <td>8.766216</td>\n",
       "      <td>3.1348</td>\n",
       "      <td>2.043545</td>\n",
       "      <td>...</td>\n",
       "      <td>51.336975</td>\n",
       "      <td>NaN</td>\n",
       "      <td>NaN</td>\n",
       "      <td>NaN</td>\n",
       "      <td>NaN</td>\n",
       "      <td>-0.003454</td>\n",
       "      <td>NaN</td>\n",
       "      <td>NaN</td>\n",
       "      <td>NaN</td>\n",
       "      <td>3.135</td>\n",
       "    </tr>\n",
       "    <tr>\n",
       "      <th>20278</th>\n",
       "      <td>15/9-14</td>\n",
       "      <td>3564.252001</td>\n",
       "      <td>423282.53125</td>\n",
       "      <td>6461833.0</td>\n",
       "      <td>-3537.646484</td>\n",
       "      <td>VESTLAND GP.</td>\n",
       "      <td>Smith Bank Fm.</td>\n",
       "      <td>8.794763</td>\n",
       "      <td>3.1348</td>\n",
       "      <td>2.074236</td>\n",
       "      <td>...</td>\n",
       "      <td>51.356167</td>\n",
       "      <td>NaN</td>\n",
       "      <td>NaN</td>\n",
       "      <td>NaN</td>\n",
       "      <td>NaN</td>\n",
       "      <td>-0.008872</td>\n",
       "      <td>NaN</td>\n",
       "      <td>NaN</td>\n",
       "      <td>NaN</td>\n",
       "      <td>3.135</td>\n",
       "    </tr>\n",
       "    <tr>\n",
       "      <th>20279</th>\n",
       "      <td>15/9-14</td>\n",
       "      <td>3564.404001</td>\n",
       "      <td>423282.53125</td>\n",
       "      <td>6461833.0</td>\n",
       "      <td>-3537.798096</td>\n",
       "      <td>VESTLAND GP.</td>\n",
       "      <td>Smith Bank Fm.</td>\n",
       "      <td>8.672709</td>\n",
       "      <td>3.1348</td>\n",
       "      <td>2.123846</td>\n",
       "      <td>...</td>\n",
       "      <td>51.669449</td>\n",
       "      <td>NaN</td>\n",
       "      <td>NaN</td>\n",
       "      <td>NaN</td>\n",
       "      <td>NaN</td>\n",
       "      <td>-0.004069</td>\n",
       "      <td>NaN</td>\n",
       "      <td>NaN</td>\n",
       "      <td>NaN</td>\n",
       "      <td>3.135</td>\n",
       "    </tr>\n",
       "    <tr>\n",
       "      <th>20280</th>\n",
       "      <td>15/9-14</td>\n",
       "      <td>3564.556001</td>\n",
       "      <td>423282.56250</td>\n",
       "      <td>6461833.0</td>\n",
       "      <td>-3537.949707</td>\n",
       "      <td>VESTLAND GP.</td>\n",
       "      <td>Smith Bank Fm.</td>\n",
       "      <td>8.449062</td>\n",
       "      <td>3.1348</td>\n",
       "      <td>2.182581</td>\n",
       "      <td>...</td>\n",
       "      <td>51.511246</td>\n",
       "      <td>NaN</td>\n",
       "      <td>NaN</td>\n",
       "      <td>NaN</td>\n",
       "      <td>NaN</td>\n",
       "      <td>-0.007532</td>\n",
       "      <td>NaN</td>\n",
       "      <td>NaN</td>\n",
       "      <td>NaN</td>\n",
       "      <td>3.135</td>\n",
       "    </tr>\n",
       "  </tbody>\n",
       "</table>\n",
       "<p>20281 rows × 27 columns</p>\n",
       "</div>"
      ],
      "text/plain": [
       "          WELL     DEPTH_MD         X_LOC      Y_LOC        Z_LOC  \\\n",
       "0      15/9-14   480.628001  423244.50000  6461862.5  -455.624420   \n",
       "1      15/9-14   480.780001  423244.50000  6461862.5  -455.776428   \n",
       "2      15/9-14   480.932001  423244.50000  6461862.5  -455.928436   \n",
       "3      15/9-14   481.084001  423244.50000  6461862.5  -456.080444   \n",
       "4      15/9-14   481.236001  423244.53125  6461862.5  -456.232422   \n",
       "...        ...          ...           ...        ...          ...   \n",
       "20276  15/9-14  3563.948001  423282.50000  6461833.0 -3537.343262   \n",
       "20277  15/9-14  3564.100001  423282.53125  6461833.0 -3537.494873   \n",
       "20278  15/9-14  3564.252001  423282.53125  6461833.0 -3537.646484   \n",
       "20279  15/9-14  3564.404001  423282.53125  6461833.0 -3537.798096   \n",
       "20280  15/9-14  3564.556001  423282.56250  6461833.0 -3537.949707   \n",
       "\n",
       "              GROUP       FORMATION       CALI    RSHA      RMED  ...  \\\n",
       "0      NORDLAND GP.             NaN  19.203100     NaN  1.613886  ...   \n",
       "1      NORDLAND GP.             NaN  19.203100     NaN  1.574376  ...   \n",
       "2      NORDLAND GP.             NaN  19.203100     NaN  1.436627  ...   \n",
       "3      NORDLAND GP.             NaN  19.203100     NaN  1.276094  ...   \n",
       "4      NORDLAND GP.             NaN  19.203100     NaN  1.204704  ...   \n",
       "...             ...             ...        ...     ...       ...  ...   \n",
       "20276  VESTLAND GP.  Smith Bank Fm.   8.712281  3.1348  2.065150  ...   \n",
       "20277  VESTLAND GP.  Smith Bank Fm.   8.766216  3.1348  2.043545  ...   \n",
       "20278  VESTLAND GP.  Smith Bank Fm.   8.794763  3.1348  2.074236  ...   \n",
       "20279  VESTLAND GP.  Smith Bank Fm.   8.672709  3.1348  2.123846  ...   \n",
       "20280  VESTLAND GP.  Smith Bank Fm.   8.449062  3.1348  2.182581  ...   \n",
       "\n",
       "              SP  BS         ROP  DTS  DCAL      DRHO  MUDWEIGHT  RMIC  ROPA  \\\n",
       "0      35.525719 NaN   96.461990  NaN   NaN -0.538873   0.130611   NaN   NaN   \n",
       "1      36.158520 NaN   96.454399  NaN   NaN -0.539232   0.130611   NaN   NaN   \n",
       "2      36.873703 NaN   96.446686  NaN   NaN -0.540830   0.130611   NaN   NaN   \n",
       "3      37.304054 NaN  161.170166  NaN   NaN -0.543943   0.130611   NaN   NaN   \n",
       "4      37.864922 NaN  172.489120  NaN   NaN -0.542104   0.130611   NaN   NaN   \n",
       "...          ...  ..         ...  ...   ...       ...        ...   ...   ...   \n",
       "20276  50.611870 NaN         NaN  NaN   NaN  0.031030        NaN   NaN   NaN   \n",
       "20277  51.336975 NaN         NaN  NaN   NaN -0.003454        NaN   NaN   NaN   \n",
       "20278  51.356167 NaN         NaN  NaN   NaN -0.008872        NaN   NaN   NaN   \n",
       "20279  51.669449 NaN         NaN  NaN   NaN -0.004069        NaN   NaN   NaN   \n",
       "20280  51.511246 NaN         NaN  NaN   NaN -0.007532        NaN   NaN   NaN   \n",
       "\n",
       "         RXO  \n",
       "0        NaN  \n",
       "1        NaN  \n",
       "2        NaN  \n",
       "3        NaN  \n",
       "4        NaN  \n",
       "...      ...  \n",
       "20276  3.135  \n",
       "20277  3.135  \n",
       "20278  3.135  \n",
       "20279  3.135  \n",
       "20280  3.135  \n",
       "\n",
       "[20281 rows x 27 columns]"
      ]
     },
     "execution_count": 147,
     "metadata": {},
     "output_type": "execute_result"
    }
   ],
   "source": [
    "testdata.loc[testdata.WELL == '15/9-14']"
   ]
  },
  {
   "cell_type": "code",
   "execution_count": 146,
   "metadata": {},
   "outputs": [
    {
     "data": {
      "image/png": "[encoded data removed]",
      "text/plain": [
       "<Figure size 720x720 with 4 Axes>"
      ]
     },
     "metadata": {
      "needs_background": "light"
     },
     "output_type": "display_data"
    }
   ],
   "source": [
    "pet.four_plots(testdata.loc[testdata.WELL == '15/9-14'], x1='GR', x2='NPHI', x3='SP', x4='DTC',\n",
    "               top=480, base=3565, depth='DEPTH_MD')"
   ]
  },
  {
   "cell_type": "code",
   "execution_count": 149,
   "metadata": {},
   "outputs": [
    {
     "data": {
      "text/plain": [
       "array(['15/9-13', '15/9-15', '15/9-17', '16/1-2', '16/1-6 A', '16/10-1',\n",
       "       '16/10-2', '16/10-3', '16/10-5', '16/11-1 ST3', '16/2-11 A',\n",
       "       '16/2-16', '16/2-6', '16/4-1', '16/5-3', '16/7-4', '16/7-5',\n",
       "       '16/8-1', '17/11-1', '25/11-15', '25/11-19 S', '25/11-5',\n",
       "       '25/2-13 T4', '25/2-14', '25/2-7', '25/3-1', '25/4-5', '25/5-1',\n",
       "       '25/5-4', '25/6-1', '25/6-2', '25/6-3', '25/7-2', '25/8-5 S',\n",
       "       '25/8-7', '25/9-1', '26/4-1', '29/6-1', '30/3-3', '30/3-5 S',\n",
       "       '30/6-5', '31/2-1', '31/2-19 S', '31/2-7', '31/2-8', '31/2-9',\n",
       "       '31/3-1', '31/3-2', '31/3-3', '31/3-4', '31/4-10', '31/4-5',\n",
       "       '31/5-4 S', '31/6-5', '31/6-8', '32/2-1', '33/5-2', '33/6-3 S',\n",
       "       '33/9-1', '33/9-17', '34/10-19', '34/10-21', '34/10-33',\n",
       "       '34/10-35', '34/11-1', '34/11-2 S', '34/12-1', '34/2-4',\n",
       "       '34/3-1 A', '34/4-10 R', '34/5-1 A', '34/5-1 S', '34/7-13',\n",
       "       '34/7-20', '34/7-21', '34/8-1', '34/8-3', '34/8-7 R', '35/11-1',\n",
       "       '35/11-10', '35/11-11', '35/11-12', '35/11-13', '35/11-15 S',\n",
       "       '35/11-6', '35/11-7', '35/12-1', '35/3-7 S', '35/4-1', '35/8-4',\n",
       "       '35/8-6 S', '35/9-10 S', '35/9-2', '35/9-5', '35/9-6 S', '36/7-3',\n",
       "       '7/1-1', '7/1-2 S'], dtype=object)"
      ]
     },
     "execution_count": 149,
     "metadata": {},
     "output_type": "execute_result"
    }
   ],
   "source": [
    "traindata.WELL.unique()"
   ]
  },
  {
   "cell_type": "code",
   "execution_count": 152,
   "metadata": {},
   "outputs": [
    {
     "data": {
      "text/html": [
       "<div>\n",
       "<style scoped>\n",
       "    .dataframe tbody tr th:only-of-type {\n",
       "        vertical-align: middle;\n",
       "    }\n",
       "\n",
       "    .dataframe tbody tr th {\n",
       "        vertical-align: top;\n",
       "    }\n",
       "\n",
       "    .dataframe thead th {\n",
       "        text-align: right;\n",
       "    }\n",
       "</style>\n",
       "<table border=\"1\" class=\"dataframe\">\n",
       "  <thead>\n",
       "    <tr style=\"text-align: right;\">\n",
       "      <th></th>\n",
       "      <th>WELL</th>\n",
       "      <th>DEPTH_MD</th>\n",
       "      <th>X_LOC</th>\n",
       "      <th>Y_LOC</th>\n",
       "      <th>Z_LOC</th>\n",
       "      <th>GROUP</th>\n",
       "      <th>FORMATION</th>\n",
       "      <th>CALI</th>\n",
       "      <th>RSHA</th>\n",
       "      <th>RMED</th>\n",
       "      <th>...</th>\n",
       "      <th>ROP</th>\n",
       "      <th>DTS</th>\n",
       "      <th>DCAL</th>\n",
       "      <th>DRHO</th>\n",
       "      <th>MUDWEIGHT</th>\n",
       "      <th>RMIC</th>\n",
       "      <th>ROPA</th>\n",
       "      <th>RXO</th>\n",
       "      <th>FORCE_2020_LITHOFACIES_LITHOLOGY</th>\n",
       "      <th>FORCE_2020_LITHOFACIES_CONFIDENCE</th>\n",
       "    </tr>\n",
       "  </thead>\n",
       "  <tbody>\n",
       "    <tr>\n",
       "      <th>18270</th>\n",
       "      <td>15/9-15</td>\n",
       "      <td>485.256</td>\n",
       "      <td>436817.90625</td>\n",
       "      <td>6462991.5</td>\n",
       "      <td>-460.255005</td>\n",
       "      <td>NORDLAND GP.</td>\n",
       "      <td>NaN</td>\n",
       "      <td>NaN</td>\n",
       "      <td>1.567587</td>\n",
       "      <td>1.567587</td>\n",
       "      <td>...</td>\n",
       "      <td>46.064972</td>\n",
       "      <td>NaN</td>\n",
       "      <td>NaN</td>\n",
       "      <td>NaN</td>\n",
       "      <td>0.133007</td>\n",
       "      <td>NaN</td>\n",
       "      <td>NaN</td>\n",
       "      <td>-999.900024</td>\n",
       "      <td>65000</td>\n",
       "      <td>3.0</td>\n",
       "    </tr>\n",
       "    <tr>\n",
       "      <th>18271</th>\n",
       "      <td>15/9-15</td>\n",
       "      <td>485.408</td>\n",
       "      <td>436817.90625</td>\n",
       "      <td>6462991.5</td>\n",
       "      <td>-460.406982</td>\n",
       "      <td>NORDLAND GP.</td>\n",
       "      <td>NaN</td>\n",
       "      <td>NaN</td>\n",
       "      <td>1.570050</td>\n",
       "      <td>1.570050</td>\n",
       "      <td>...</td>\n",
       "      <td>46.067581</td>\n",
       "      <td>NaN</td>\n",
       "      <td>NaN</td>\n",
       "      <td>NaN</td>\n",
       "      <td>0.133007</td>\n",
       "      <td>NaN</td>\n",
       "      <td>NaN</td>\n",
       "      <td>-999.900024</td>\n",
       "      <td>65000</td>\n",
       "      <td>3.0</td>\n",
       "    </tr>\n",
       "    <tr>\n",
       "      <th>18272</th>\n",
       "      <td>15/9-15</td>\n",
       "      <td>485.560</td>\n",
       "      <td>436817.90625</td>\n",
       "      <td>6462991.5</td>\n",
       "      <td>-460.558990</td>\n",
       "      <td>NORDLAND GP.</td>\n",
       "      <td>NaN</td>\n",
       "      <td>NaN</td>\n",
       "      <td>1.553659</td>\n",
       "      <td>1.553659</td>\n",
       "      <td>...</td>\n",
       "      <td>46.070087</td>\n",
       "      <td>NaN</td>\n",
       "      <td>NaN</td>\n",
       "      <td>NaN</td>\n",
       "      <td>0.133007</td>\n",
       "      <td>NaN</td>\n",
       "      <td>NaN</td>\n",
       "      <td>-999.900024</td>\n",
       "      <td>65000</td>\n",
       "      <td>3.0</td>\n",
       "    </tr>\n",
       "    <tr>\n",
       "      <th>18273</th>\n",
       "      <td>15/9-15</td>\n",
       "      <td>485.712</td>\n",
       "      <td>436817.90625</td>\n",
       "      <td>6462991.5</td>\n",
       "      <td>-460.710999</td>\n",
       "      <td>NORDLAND GP.</td>\n",
       "      <td>NaN</td>\n",
       "      <td>NaN</td>\n",
       "      <td>1.541216</td>\n",
       "      <td>1.541216</td>\n",
       "      <td>...</td>\n",
       "      <td>46.072601</td>\n",
       "      <td>NaN</td>\n",
       "      <td>NaN</td>\n",
       "      <td>NaN</td>\n",
       "      <td>0.133007</td>\n",
       "      <td>NaN</td>\n",
       "      <td>NaN</td>\n",
       "      <td>-999.900024</td>\n",
       "      <td>65000</td>\n",
       "      <td>3.0</td>\n",
       "    </tr>\n",
       "    <tr>\n",
       "      <th>18274</th>\n",
       "      <td>15/9-15</td>\n",
       "      <td>485.864</td>\n",
       "      <td>436817.90625</td>\n",
       "      <td>6462991.5</td>\n",
       "      <td>-460.863007</td>\n",
       "      <td>NORDLAND GP.</td>\n",
       "      <td>NaN</td>\n",
       "      <td>NaN</td>\n",
       "      <td>1.540456</td>\n",
       "      <td>1.540456</td>\n",
       "      <td>...</td>\n",
       "      <td>44.937218</td>\n",
       "      <td>NaN</td>\n",
       "      <td>NaN</td>\n",
       "      <td>NaN</td>\n",
       "      <td>0.133007</td>\n",
       "      <td>NaN</td>\n",
       "      <td>NaN</td>\n",
       "      <td>-999.900024</td>\n",
       "      <td>65000</td>\n",
       "      <td>3.0</td>\n",
       "    </tr>\n",
       "    <tr>\n",
       "      <th>...</th>\n",
       "      <td>...</td>\n",
       "      <td>...</td>\n",
       "      <td>...</td>\n",
       "      <td>...</td>\n",
       "      <td>...</td>\n",
       "      <td>...</td>\n",
       "      <td>...</td>\n",
       "      <td>...</td>\n",
       "      <td>...</td>\n",
       "      <td>...</td>\n",
       "      <td>...</td>\n",
       "      <td>...</td>\n",
       "      <td>...</td>\n",
       "      <td>...</td>\n",
       "      <td>...</td>\n",
       "      <td>...</td>\n",
       "      <td>...</td>\n",
       "      <td>...</td>\n",
       "      <td>...</td>\n",
       "      <td>...</td>\n",
       "      <td>...</td>\n",
       "    </tr>\n",
       "    <tr>\n",
       "      <th>35982</th>\n",
       "      <td>15/9-15</td>\n",
       "      <td>3199.520</td>\n",
       "      <td>436790.84375</td>\n",
       "      <td>6463021.0</td>\n",
       "      <td>-3173.941162</td>\n",
       "      <td>HEGRE GP.</td>\n",
       "      <td>Skagerrak Fm.</td>\n",
       "      <td>7.776711</td>\n",
       "      <td>0.987094</td>\n",
       "      <td>0.987094</td>\n",
       "      <td>...</td>\n",
       "      <td>21.762825</td>\n",
       "      <td>NaN</td>\n",
       "      <td>-0.723289</td>\n",
       "      <td>-0.011544</td>\n",
       "      <td>0.191722</td>\n",
       "      <td>NaN</td>\n",
       "      <td>NaN</td>\n",
       "      <td>-7.453425</td>\n",
       "      <td>30000</td>\n",
       "      <td>1.0</td>\n",
       "    </tr>\n",
       "    <tr>\n",
       "      <th>35983</th>\n",
       "      <td>15/9-15</td>\n",
       "      <td>3199.672</td>\n",
       "      <td>436790.84375</td>\n",
       "      <td>6463021.0</td>\n",
       "      <td>-3174.093262</td>\n",
       "      <td>HEGRE GP.</td>\n",
       "      <td>Skagerrak Fm.</td>\n",
       "      <td>7.779644</td>\n",
       "      <td>0.969350</td>\n",
       "      <td>0.969350</td>\n",
       "      <td>...</td>\n",
       "      <td>22.075161</td>\n",
       "      <td>NaN</td>\n",
       "      <td>-0.720356</td>\n",
       "      <td>-0.012000</td>\n",
       "      <td>0.191722</td>\n",
       "      <td>NaN</td>\n",
       "      <td>NaN</td>\n",
       "      <td>-7.518777</td>\n",
       "      <td>30000</td>\n",
       "      <td>1.0</td>\n",
       "    </tr>\n",
       "    <tr>\n",
       "      <th>35984</th>\n",
       "      <td>15/9-15</td>\n",
       "      <td>3199.824</td>\n",
       "      <td>436790.84375</td>\n",
       "      <td>6463021.0</td>\n",
       "      <td>-3174.245117</td>\n",
       "      <td>HEGRE GP.</td>\n",
       "      <td>Skagerrak Fm.</td>\n",
       "      <td>7.792982</td>\n",
       "      <td>0.962780</td>\n",
       "      <td>0.962780</td>\n",
       "      <td>...</td>\n",
       "      <td>NaN</td>\n",
       "      <td>NaN</td>\n",
       "      <td>-0.707018</td>\n",
       "      <td>-0.012083</td>\n",
       "      <td>0.191722</td>\n",
       "      <td>NaN</td>\n",
       "      <td>NaN</td>\n",
       "      <td>-7.584129</td>\n",
       "      <td>30000</td>\n",
       "      <td>1.0</td>\n",
       "    </tr>\n",
       "    <tr>\n",
       "      <th>35985</th>\n",
       "      <td>15/9-15</td>\n",
       "      <td>3199.976</td>\n",
       "      <td>436790.84375</td>\n",
       "      <td>6463021.0</td>\n",
       "      <td>-3174.397217</td>\n",
       "      <td>HEGRE GP.</td>\n",
       "      <td>Skagerrak Fm.</td>\n",
       "      <td>NaN</td>\n",
       "      <td>0.973905</td>\n",
       "      <td>0.973905</td>\n",
       "      <td>...</td>\n",
       "      <td>NaN</td>\n",
       "      <td>NaN</td>\n",
       "      <td>1899.866943</td>\n",
       "      <td>-0.013277</td>\n",
       "      <td>0.191722</td>\n",
       "      <td>NaN</td>\n",
       "      <td>NaN</td>\n",
       "      <td>-7.649461</td>\n",
       "      <td>30000</td>\n",
       "      <td>NaN</td>\n",
       "    </tr>\n",
       "    <tr>\n",
       "      <th>35986</th>\n",
       "      <td>15/9-15</td>\n",
       "      <td>3200.128</td>\n",
       "      <td>436790.84375</td>\n",
       "      <td>6463021.0</td>\n",
       "      <td>-3174.548828</td>\n",
       "      <td>HEGRE GP.</td>\n",
       "      <td>Skagerrak Fm.</td>\n",
       "      <td>NaN</td>\n",
       "      <td>1.005314</td>\n",
       "      <td>1.005314</td>\n",
       "      <td>...</td>\n",
       "      <td>NaN</td>\n",
       "      <td>NaN</td>\n",
       "      <td>10006.789063</td>\n",
       "      <td>-0.018160</td>\n",
       "      <td>NaN</td>\n",
       "      <td>NaN</td>\n",
       "      <td>NaN</td>\n",
       "      <td>-7.714728</td>\n",
       "      <td>30000</td>\n",
       "      <td>NaN</td>\n",
       "    </tr>\n",
       "  </tbody>\n",
       "</table>\n",
       "<p>17717 rows × 29 columns</p>\n",
       "</div>"
      ],
      "text/plain": [
       "          WELL  DEPTH_MD         X_LOC      Y_LOC        Z_LOC         GROUP  \\\n",
       "18270  15/9-15   485.256  436817.90625  6462991.5  -460.255005  NORDLAND GP.   \n",
       "18271  15/9-15   485.408  436817.90625  6462991.5  -460.406982  NORDLAND GP.   \n",
       "18272  15/9-15   485.560  436817.90625  6462991.5  -460.558990  NORDLAND GP.   \n",
       "18273  15/9-15   485.712  436817.90625  6462991.5  -460.710999  NORDLAND GP.   \n",
       "18274  15/9-15   485.864  436817.90625  6462991.5  -460.863007  NORDLAND GP.   \n",
       "...        ...       ...           ...        ...          ...           ...   \n",
       "35982  15/9-15  3199.520  436790.84375  6463021.0 -3173.941162     HEGRE GP.   \n",
       "35983  15/9-15  3199.672  436790.84375  6463021.0 -3174.093262     HEGRE GP.   \n",
       "35984  15/9-15  3199.824  436790.84375  6463021.0 -3174.245117     HEGRE GP.   \n",
       "35985  15/9-15  3199.976  436790.84375  6463021.0 -3174.397217     HEGRE GP.   \n",
       "35986  15/9-15  3200.128  436790.84375  6463021.0 -3174.548828     HEGRE GP.   \n",
       "\n",
       "           FORMATION      CALI      RSHA      RMED  ...        ROP  DTS  \\\n",
       "18270            NaN       NaN  1.567587  1.567587  ...  46.064972  NaN   \n",
       "18271            NaN       NaN  1.570050  1.570050  ...  46.067581  NaN   \n",
       "18272            NaN       NaN  1.553659  1.553659  ...  46.070087  NaN   \n",
       "18273            NaN       NaN  1.541216  1.541216  ...  46.072601  NaN   \n",
       "18274            NaN       NaN  1.540456  1.540456  ...  44.937218  NaN   \n",
       "...              ...       ...       ...       ...  ...        ...  ...   \n",
       "35982  Skagerrak Fm.  7.776711  0.987094  0.987094  ...  21.762825  NaN   \n",
       "35983  Skagerrak Fm.  7.779644  0.969350  0.969350  ...  22.075161  NaN   \n",
       "35984  Skagerrak Fm.  7.792982  0.962780  0.962780  ...        NaN  NaN   \n",
       "35985  Skagerrak Fm.       NaN  0.973905  0.973905  ...        NaN  NaN   \n",
       "35986  Skagerrak Fm.       NaN  1.005314  1.005314  ...        NaN  NaN   \n",
       "\n",
       "               DCAL      DRHO  MUDWEIGHT  RMIC  ROPA         RXO  \\\n",
       "18270           NaN       NaN   0.133007   NaN   NaN -999.900024   \n",
       "18271           NaN       NaN   0.133007   NaN   NaN -999.900024   \n",
       "18272           NaN       NaN   0.133007   NaN   NaN -999.900024   \n",
       "18273           NaN       NaN   0.133007   NaN   NaN -999.900024   \n",
       "18274           NaN       NaN   0.133007   NaN   NaN -999.900024   \n",
       "...             ...       ...        ...   ...   ...         ...   \n",
       "35982     -0.723289 -0.011544   0.191722   NaN   NaN   -7.453425   \n",
       "35983     -0.720356 -0.012000   0.191722   NaN   NaN   -7.518777   \n",
       "35984     -0.707018 -0.012083   0.191722   NaN   NaN   -7.584129   \n",
       "35985   1899.866943 -0.013277   0.191722   NaN   NaN   -7.649461   \n",
       "35986  10006.789063 -0.018160        NaN   NaN   NaN   -7.714728   \n",
       "\n",
       "       FORCE_2020_LITHOFACIES_LITHOLOGY  FORCE_2020_LITHOFACIES_CONFIDENCE  \n",
       "18270                             65000                                3.0  \n",
       "18271                             65000                                3.0  \n",
       "18272                             65000                                3.0  \n",
       "18273                             65000                                3.0  \n",
       "18274                             65000                                3.0  \n",
       "...                                 ...                                ...  \n",
       "35982                             30000                                1.0  \n",
       "35983                             30000                                1.0  \n",
       "35984                             30000                                1.0  \n",
       "35985                             30000                                NaN  \n",
       "35986                             30000                                NaN  \n",
       "\n",
       "[17717 rows x 29 columns]"
      ]
     },
     "execution_count": 152,
     "metadata": {},
     "output_type": "execute_result"
    }
   ],
   "source": [
    "traindata.loc[traindata.WELL == '15/9-15']"
   ]
  },
  {
   "cell_type": "code",
   "execution_count": 153,
   "metadata": {},
   "outputs": [
    {
     "data": {
      "image/png": "[encoded data removed]",
      "text/plain": [
       "<Figure size 720x720 with 4 Axes>"
      ]
     },
     "metadata": {
      "needs_background": "light"
     },
     "output_type": "display_data"
    }
   ],
   "source": [
    "pet.four_plots(traindata.loc[traindata.WELL == '15/9-15'], x1='GR', x2='NPHI', x3='SP', x4='DTC',\n",
    "               top=485, base=3201, depth='DEPTH_MD')"
   ]
  },
  {
   "cell_type": "code",
   "execution_count": null,
   "metadata": {},
   "outputs": [],
   "source": []
  }
 ],
 "metadata": {
  "kernelspec": {
   "display_name": "Python 3",
   "language": "python",
   "name": "python3"
  },
  "language_info": {
   "codemirror_mode": {
    "name": "ipython",
    "version": 3
   },
   "file_extension": ".py",
   "mimetype": "text/x-python",
   "name": "python",
   "nbconvert_exporter": "python",
   "pygments_lexer": "ipython3",
   "version": "3.8.5"
  }
 },
 "nbformat": 4,
 "nbformat_minor": 4
}
